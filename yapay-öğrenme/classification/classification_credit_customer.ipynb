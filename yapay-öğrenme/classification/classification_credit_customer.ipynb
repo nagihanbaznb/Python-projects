{
 "cells": [
  {
   "cell_type": "code",
   "execution_count": 1,
   "id": "c815dde1",
   "metadata": {},
   "outputs": [
    {
     "data": {
      "text/html": [
       "<div>\n",
       "<style scoped>\n",
       "    .dataframe tbody tr th:only-of-type {\n",
       "        vertical-align: middle;\n",
       "    }\n",
       "\n",
       "    .dataframe tbody tr th {\n",
       "        vertical-align: top;\n",
       "    }\n",
       "\n",
       "    .dataframe thead th {\n",
       "        text-align: right;\n",
       "    }\n",
       "</style>\n",
       "<table border=\"1\" class=\"dataframe\">\n",
       "  <thead>\n",
       "    <tr style=\"text-align: right;\">\n",
       "      <th></th>\n",
       "      <th>checking_status</th>\n",
       "      <th>duration</th>\n",
       "      <th>credit_history</th>\n",
       "      <th>purpose</th>\n",
       "      <th>credit_amount</th>\n",
       "      <th>savings_status</th>\n",
       "      <th>employment</th>\n",
       "      <th>installment_commitment</th>\n",
       "      <th>personal_status</th>\n",
       "      <th>other_parties</th>\n",
       "      <th>...</th>\n",
       "      <th>property_magnitude</th>\n",
       "      <th>age</th>\n",
       "      <th>other_payment_plans</th>\n",
       "      <th>housing</th>\n",
       "      <th>existing_credits</th>\n",
       "      <th>job</th>\n",
       "      <th>num_dependents</th>\n",
       "      <th>own_telephone</th>\n",
       "      <th>foreign_worker</th>\n",
       "      <th>class</th>\n",
       "    </tr>\n",
       "  </thead>\n",
       "  <tbody>\n",
       "    <tr>\n",
       "      <th>0</th>\n",
       "      <td>&lt;0</td>\n",
       "      <td>6.0</td>\n",
       "      <td>critical/other existing credit</td>\n",
       "      <td>radio/tv</td>\n",
       "      <td>1169.0</td>\n",
       "      <td>no known savings</td>\n",
       "      <td>&gt;=7</td>\n",
       "      <td>4.0</td>\n",
       "      <td>male single</td>\n",
       "      <td>none</td>\n",
       "      <td>...</td>\n",
       "      <td>real estate</td>\n",
       "      <td>67.0</td>\n",
       "      <td>none</td>\n",
       "      <td>own</td>\n",
       "      <td>2.0</td>\n",
       "      <td>skilled</td>\n",
       "      <td>1.0</td>\n",
       "      <td>yes</td>\n",
       "      <td>yes</td>\n",
       "      <td>good</td>\n",
       "    </tr>\n",
       "    <tr>\n",
       "      <th>1</th>\n",
       "      <td>0&lt;=X&lt;200</td>\n",
       "      <td>48.0</td>\n",
       "      <td>existing paid</td>\n",
       "      <td>radio/tv</td>\n",
       "      <td>5951.0</td>\n",
       "      <td>&lt;100</td>\n",
       "      <td>1&lt;=X&lt;4</td>\n",
       "      <td>2.0</td>\n",
       "      <td>female div/dep/mar</td>\n",
       "      <td>none</td>\n",
       "      <td>...</td>\n",
       "      <td>real estate</td>\n",
       "      <td>22.0</td>\n",
       "      <td>none</td>\n",
       "      <td>own</td>\n",
       "      <td>1.0</td>\n",
       "      <td>skilled</td>\n",
       "      <td>1.0</td>\n",
       "      <td>none</td>\n",
       "      <td>yes</td>\n",
       "      <td>bad</td>\n",
       "    </tr>\n",
       "    <tr>\n",
       "      <th>2</th>\n",
       "      <td>no checking</td>\n",
       "      <td>12.0</td>\n",
       "      <td>critical/other existing credit</td>\n",
       "      <td>education</td>\n",
       "      <td>2096.0</td>\n",
       "      <td>&lt;100</td>\n",
       "      <td>4&lt;=X&lt;7</td>\n",
       "      <td>2.0</td>\n",
       "      <td>male single</td>\n",
       "      <td>none</td>\n",
       "      <td>...</td>\n",
       "      <td>real estate</td>\n",
       "      <td>49.0</td>\n",
       "      <td>none</td>\n",
       "      <td>own</td>\n",
       "      <td>1.0</td>\n",
       "      <td>unskilled resident</td>\n",
       "      <td>2.0</td>\n",
       "      <td>none</td>\n",
       "      <td>yes</td>\n",
       "      <td>good</td>\n",
       "    </tr>\n",
       "    <tr>\n",
       "      <th>3</th>\n",
       "      <td>&lt;0</td>\n",
       "      <td>42.0</td>\n",
       "      <td>existing paid</td>\n",
       "      <td>furniture/equipment</td>\n",
       "      <td>7882.0</td>\n",
       "      <td>&lt;100</td>\n",
       "      <td>4&lt;=X&lt;7</td>\n",
       "      <td>2.0</td>\n",
       "      <td>male single</td>\n",
       "      <td>guarantor</td>\n",
       "      <td>...</td>\n",
       "      <td>life insurance</td>\n",
       "      <td>45.0</td>\n",
       "      <td>none</td>\n",
       "      <td>for free</td>\n",
       "      <td>1.0</td>\n",
       "      <td>skilled</td>\n",
       "      <td>2.0</td>\n",
       "      <td>none</td>\n",
       "      <td>yes</td>\n",
       "      <td>good</td>\n",
       "    </tr>\n",
       "    <tr>\n",
       "      <th>4</th>\n",
       "      <td>&lt;0</td>\n",
       "      <td>24.0</td>\n",
       "      <td>delayed previously</td>\n",
       "      <td>new car</td>\n",
       "      <td>4870.0</td>\n",
       "      <td>&lt;100</td>\n",
       "      <td>1&lt;=X&lt;4</td>\n",
       "      <td>3.0</td>\n",
       "      <td>male single</td>\n",
       "      <td>none</td>\n",
       "      <td>...</td>\n",
       "      <td>no known property</td>\n",
       "      <td>53.0</td>\n",
       "      <td>none</td>\n",
       "      <td>for free</td>\n",
       "      <td>2.0</td>\n",
       "      <td>skilled</td>\n",
       "      <td>2.0</td>\n",
       "      <td>none</td>\n",
       "      <td>yes</td>\n",
       "      <td>bad</td>\n",
       "    </tr>\n",
       "  </tbody>\n",
       "</table>\n",
       "<p>5 rows × 21 columns</p>\n",
       "</div>"
      ],
      "text/plain": [
       "  checking_status  duration                  credit_history  \\\n",
       "0              <0       6.0  critical/other existing credit   \n",
       "1        0<=X<200      48.0                   existing paid   \n",
       "2     no checking      12.0  critical/other existing credit   \n",
       "3              <0      42.0                   existing paid   \n",
       "4              <0      24.0              delayed previously   \n",
       "\n",
       "               purpose  credit_amount    savings_status employment  \\\n",
       "0             radio/tv         1169.0  no known savings        >=7   \n",
       "1             radio/tv         5951.0              <100     1<=X<4   \n",
       "2            education         2096.0              <100     4<=X<7   \n",
       "3  furniture/equipment         7882.0              <100     4<=X<7   \n",
       "4              new car         4870.0              <100     1<=X<4   \n",
       "\n",
       "   installment_commitment     personal_status other_parties  ...  \\\n",
       "0                     4.0         male single          none  ...   \n",
       "1                     2.0  female div/dep/mar          none  ...   \n",
       "2                     2.0         male single          none  ...   \n",
       "3                     2.0         male single     guarantor  ...   \n",
       "4                     3.0         male single          none  ...   \n",
       "\n",
       "   property_magnitude   age  other_payment_plans   housing existing_credits  \\\n",
       "0         real estate  67.0                 none       own              2.0   \n",
       "1         real estate  22.0                 none       own              1.0   \n",
       "2         real estate  49.0                 none       own              1.0   \n",
       "3      life insurance  45.0                 none  for free              1.0   \n",
       "4   no known property  53.0                 none  for free              2.0   \n",
       "\n",
       "                  job num_dependents  own_telephone foreign_worker class  \n",
       "0             skilled            1.0            yes            yes  good  \n",
       "1             skilled            1.0           none            yes   bad  \n",
       "2  unskilled resident            2.0           none            yes  good  \n",
       "3             skilled            2.0           none            yes  good  \n",
       "4             skilled            2.0           none            yes   bad  \n",
       "\n",
       "[5 rows x 21 columns]"
      ]
     },
     "execution_count": 1,
     "metadata": {},
     "output_type": "execute_result"
    }
   ],
   "source": [
    "import pandas as pd\n",
    "import numpy as np\n",
    "import sklearn\n",
    "from scipy import stats\n",
    "import matplotlib.pyplot as plt\n",
    "import os\n",
    "import seaborn as sns\n",
    "import warnings\n",
    "# We begin by importing all the necessary libraries needed\n",
    "import pandas as pd\n",
    "import numpy as np\n",
    "import seaborn as sns\n",
    "import matplotlib.pyplot as plt\n",
    "%matplotlib inline\n",
    "\n",
    "#regression packages\n",
    "import sklearn.linear_model as lm\n",
    "from sklearn.metrics import mean_squared_error\n",
    "from sklearn.metrics import explained_variance_score\n",
    "\n",
    "#lasso regression\n",
    "from sklearn import linear_model\n",
    "\n",
    "#f_regression (feature selection)\n",
    "from sklearn.feature_selection import f_regression\n",
    "from sklearn.feature_selection import SelectKBest\n",
    "\n",
    "# recursive feature selection (feature selection)\n",
    "from sklearn.feature_selection import RFE\n",
    "\n",
    "#ignore warning\n",
    "import warnings\n",
    "warnings.filterwarnings(\"ignore\")\n",
    "file_loc = r\"C:\\Users\\USER\\Desktop\\Yeni klasör\\credit_customers (1).xlsx\"\n",
    "credit_customers_data = pd.read_excel(file_loc)\n",
    "credit_customers_data.head()"
   ]
  },
  {
   "cell_type": "code",
   "execution_count": 2,
   "id": "75d205a5",
   "metadata": {},
   "outputs": [
    {
     "name": "stdout",
     "output_type": "stream",
     "text": [
      "Total number of records in the dataset :  1000\n",
      "Total number of columns in the dataset :  21\n"
     ]
    }
   ],
   "source": [
    "rows_col = credit_customers_data.shape\n",
    "print(\"Total number of records in the dataset : \", rows_col[0])\n",
    "print(\"Total number of columns in the dataset : \", rows_col[1])"
   ]
  },
  {
   "cell_type": "code",
   "execution_count": 3,
   "id": "d1bf5c1e",
   "metadata": {},
   "outputs": [
    {
     "name": "stdout",
     "output_type": "stream",
     "text": [
      "<class 'pandas.core.frame.DataFrame'>\n",
      "RangeIndex: 1000 entries, 0 to 999\n",
      "Data columns (total 21 columns):\n",
      " #   Column                  Non-Null Count  Dtype  \n",
      "---  ------                  --------------  -----  \n",
      " 0   checking_status         1000 non-null   object \n",
      " 1   duration                1000 non-null   float64\n",
      " 2   credit_history          1000 non-null   object \n",
      " 3   purpose                 1000 non-null   object \n",
      " 4   credit_amount           1000 non-null   float64\n",
      " 5   savings_status          1000 non-null   object \n",
      " 6   employment              1000 non-null   object \n",
      " 7   installment_commitment  1000 non-null   float64\n",
      " 8   personal_status         1000 non-null   object \n",
      " 9   other_parties           1000 non-null   object \n",
      " 10  residence_since         1000 non-null   float64\n",
      " 11  property_magnitude      1000 non-null   object \n",
      " 12  age                     1000 non-null   float64\n",
      " 13  other_payment_plans     1000 non-null   object \n",
      " 14  housing                 1000 non-null   object \n",
      " 15  existing_credits        1000 non-null   float64\n",
      " 16  job                     1000 non-null   object \n",
      " 17  num_dependents          1000 non-null   float64\n",
      " 18  own_telephone           1000 non-null   object \n",
      " 19  foreign_worker          1000 non-null   object \n",
      " 20  class                   1000 non-null   object \n",
      "dtypes: float64(7), object(14)\n",
      "memory usage: 164.2+ KB\n"
     ]
    }
   ],
   "source": [
    "credit_customers_data.info()"
   ]
  },
  {
   "cell_type": "code",
   "execution_count": 4,
   "id": "0e9cdee4",
   "metadata": {},
   "outputs": [
    {
     "name": "stdout",
     "output_type": "stream",
     "text": [
      "S.no   :  1\n",
      "Name   :  checking_status\n",
      "Unique :  ['<0' '0<=X<200' 'no checking' '>=200']\n",
      "No     :  4\n",
      "\n",
      "S.no   :  2\n",
      "Name   :  credit_history\n",
      "Unique :  ['critical/other existing credit' 'existing paid' 'delayed previously'\n",
      " 'no credits/all paid' 'all paid']\n",
      "No     :  5\n",
      "\n",
      "S.no   :  3\n",
      "Name   :  purpose\n",
      "Unique :  ['radio/tv' 'education' 'furniture/equipment' 'new car' 'used car'\n",
      " 'business' 'domestic appliance' 'repairs' 'other' 'retraining']\n",
      "No     :  10\n",
      "\n",
      "S.no   :  4\n",
      "Name   :  savings_status\n",
      "Unique :  ['no known savings' '<100' '500<=X<1000' '>=1000' '100<=X<500']\n",
      "No     :  5\n",
      "\n",
      "S.no   :  5\n",
      "Name   :  employment\n",
      "Unique :  ['>=7' '1<=X<4' '4<=X<7' 'unemployed' '<1']\n",
      "No     :  5\n",
      "\n",
      "S.no   :  6\n",
      "Name   :  personal_status\n",
      "Unique :  ['male single' 'female div/dep/mar' 'male div/sep' 'male mar/wid']\n",
      "No     :  4\n",
      "\n",
      "S.no   :  7\n",
      "Name   :  other_parties\n",
      "Unique :  ['none' 'guarantor' 'co applicant']\n",
      "No     :  3\n",
      "\n",
      "S.no   :  8\n",
      "Name   :  property_magnitude\n",
      "Unique :  ['real estate' 'life insurance' 'no known property' 'car']\n",
      "No     :  4\n",
      "\n",
      "S.no   :  9\n",
      "Name   :  other_payment_plans\n",
      "Unique :  ['none' 'bank' 'stores']\n",
      "No     :  3\n",
      "\n",
      "S.no   :  10\n",
      "Name   :  housing\n",
      "Unique :  ['own' 'for free' 'rent']\n",
      "No     :  3\n",
      "\n",
      "S.no   :  11\n",
      "Name   :  job\n",
      "Unique :  ['skilled' 'unskilled resident' 'high qualif/self emp/mgmt'\n",
      " 'unemp/unskilled non res']\n",
      "No     :  4\n",
      "\n",
      "S.no   :  12\n",
      "Name   :  own_telephone\n",
      "Unique :  ['yes' 'none']\n",
      "No     :  2\n",
      "\n",
      "S.no   :  13\n",
      "Name   :  foreign_worker\n",
      "Unique :  ['yes' 'no']\n",
      "No     :  2\n",
      "\n",
      "S.no   :  14\n",
      "Name   :  class\n",
      "Unique :  ['good' 'bad']\n",
      "No     :  2\n",
      "\n"
     ]
    }
   ],
   "source": [
    "n = 1\n",
    "for (columnName, columnData) in credit_customers_data.iteritems():\n",
    "    if columnData.dtype == 'O':\n",
    "        print('S.no   : ', n)\n",
    "        print('Name   : ', columnName)\n",
    "        print('Unique : ', columnData.unique())\n",
    "        print('No     : ',len(columnData.unique()))\n",
    "        print()\n",
    "        n+=1\n",
    "    else:\n",
    "        pass"
   ]
  },
  {
   "cell_type": "code",
   "execution_count": 5,
   "id": "a659bd51",
   "metadata": {},
   "outputs": [],
   "source": [
    "credit_customers_data[['sex', 'marriage']] = credit_customers_data.personal_status.str.split(\" \", expand = True)\n",
    "credit_customers_data.drop(['personal_status'], axis=1, inplace = True)"
   ]
  },
  {
   "cell_type": "code",
   "execution_count": 6,
   "id": "eec110d0",
   "metadata": {},
   "outputs": [
    {
     "data": {
      "text/html": [
       "<div>\n",
       "<style scoped>\n",
       "    .dataframe tbody tr th:only-of-type {\n",
       "        vertical-align: middle;\n",
       "    }\n",
       "\n",
       "    .dataframe tbody tr th {\n",
       "        vertical-align: top;\n",
       "    }\n",
       "\n",
       "    .dataframe thead th {\n",
       "        text-align: right;\n",
       "    }\n",
       "</style>\n",
       "<table border=\"1\" class=\"dataframe\">\n",
       "  <thead>\n",
       "    <tr style=\"text-align: right;\">\n",
       "      <th></th>\n",
       "      <th>checking_status</th>\n",
       "      <th>duration</th>\n",
       "      <th>credit_history</th>\n",
       "      <th>purpose</th>\n",
       "      <th>credit_amount</th>\n",
       "      <th>savings_status</th>\n",
       "      <th>employment</th>\n",
       "      <th>installment_commitment</th>\n",
       "      <th>other_parties</th>\n",
       "      <th>residence_since</th>\n",
       "      <th>...</th>\n",
       "      <th>other_payment_plans</th>\n",
       "      <th>housing</th>\n",
       "      <th>existing_credits</th>\n",
       "      <th>job</th>\n",
       "      <th>num_dependents</th>\n",
       "      <th>own_telephone</th>\n",
       "      <th>foreign_worker</th>\n",
       "      <th>class</th>\n",
       "      <th>sex</th>\n",
       "      <th>marriage</th>\n",
       "    </tr>\n",
       "  </thead>\n",
       "  <tbody>\n",
       "    <tr>\n",
       "      <th>0</th>\n",
       "      <td>&lt;0</td>\n",
       "      <td>6.0</td>\n",
       "      <td>critical/other existing credit</td>\n",
       "      <td>radio/tv</td>\n",
       "      <td>1169.0</td>\n",
       "      <td>no known savings</td>\n",
       "      <td>&gt;=7</td>\n",
       "      <td>4.0</td>\n",
       "      <td>none</td>\n",
       "      <td>4.0</td>\n",
       "      <td>...</td>\n",
       "      <td>none</td>\n",
       "      <td>own</td>\n",
       "      <td>2.0</td>\n",
       "      <td>skilled</td>\n",
       "      <td>1.0</td>\n",
       "      <td>yes</td>\n",
       "      <td>yes</td>\n",
       "      <td>good</td>\n",
       "      <td>male</td>\n",
       "      <td>single</td>\n",
       "    </tr>\n",
       "    <tr>\n",
       "      <th>1</th>\n",
       "      <td>0&lt;=X&lt;200</td>\n",
       "      <td>48.0</td>\n",
       "      <td>existing paid</td>\n",
       "      <td>radio/tv</td>\n",
       "      <td>5951.0</td>\n",
       "      <td>&lt;100</td>\n",
       "      <td>1&lt;=X&lt;4</td>\n",
       "      <td>2.0</td>\n",
       "      <td>none</td>\n",
       "      <td>2.0</td>\n",
       "      <td>...</td>\n",
       "      <td>none</td>\n",
       "      <td>own</td>\n",
       "      <td>1.0</td>\n",
       "      <td>skilled</td>\n",
       "      <td>1.0</td>\n",
       "      <td>none</td>\n",
       "      <td>yes</td>\n",
       "      <td>bad</td>\n",
       "      <td>female</td>\n",
       "      <td>div/dep/mar</td>\n",
       "    </tr>\n",
       "    <tr>\n",
       "      <th>2</th>\n",
       "      <td>no checking</td>\n",
       "      <td>12.0</td>\n",
       "      <td>critical/other existing credit</td>\n",
       "      <td>education</td>\n",
       "      <td>2096.0</td>\n",
       "      <td>&lt;100</td>\n",
       "      <td>4&lt;=X&lt;7</td>\n",
       "      <td>2.0</td>\n",
       "      <td>none</td>\n",
       "      <td>3.0</td>\n",
       "      <td>...</td>\n",
       "      <td>none</td>\n",
       "      <td>own</td>\n",
       "      <td>1.0</td>\n",
       "      <td>unskilled resident</td>\n",
       "      <td>2.0</td>\n",
       "      <td>none</td>\n",
       "      <td>yes</td>\n",
       "      <td>good</td>\n",
       "      <td>male</td>\n",
       "      <td>single</td>\n",
       "    </tr>\n",
       "    <tr>\n",
       "      <th>3</th>\n",
       "      <td>&lt;0</td>\n",
       "      <td>42.0</td>\n",
       "      <td>existing paid</td>\n",
       "      <td>furniture/equipment</td>\n",
       "      <td>7882.0</td>\n",
       "      <td>&lt;100</td>\n",
       "      <td>4&lt;=X&lt;7</td>\n",
       "      <td>2.0</td>\n",
       "      <td>guarantor</td>\n",
       "      <td>4.0</td>\n",
       "      <td>...</td>\n",
       "      <td>none</td>\n",
       "      <td>for free</td>\n",
       "      <td>1.0</td>\n",
       "      <td>skilled</td>\n",
       "      <td>2.0</td>\n",
       "      <td>none</td>\n",
       "      <td>yes</td>\n",
       "      <td>good</td>\n",
       "      <td>male</td>\n",
       "      <td>single</td>\n",
       "    </tr>\n",
       "    <tr>\n",
       "      <th>4</th>\n",
       "      <td>&lt;0</td>\n",
       "      <td>24.0</td>\n",
       "      <td>delayed previously</td>\n",
       "      <td>new car</td>\n",
       "      <td>4870.0</td>\n",
       "      <td>&lt;100</td>\n",
       "      <td>1&lt;=X&lt;4</td>\n",
       "      <td>3.0</td>\n",
       "      <td>none</td>\n",
       "      <td>4.0</td>\n",
       "      <td>...</td>\n",
       "      <td>none</td>\n",
       "      <td>for free</td>\n",
       "      <td>2.0</td>\n",
       "      <td>skilled</td>\n",
       "      <td>2.0</td>\n",
       "      <td>none</td>\n",
       "      <td>yes</td>\n",
       "      <td>bad</td>\n",
       "      <td>male</td>\n",
       "      <td>single</td>\n",
       "    </tr>\n",
       "  </tbody>\n",
       "</table>\n",
       "<p>5 rows × 22 columns</p>\n",
       "</div>"
      ],
      "text/plain": [
       "  checking_status  duration                  credit_history  \\\n",
       "0              <0       6.0  critical/other existing credit   \n",
       "1        0<=X<200      48.0                   existing paid   \n",
       "2     no checking      12.0  critical/other existing credit   \n",
       "3              <0      42.0                   existing paid   \n",
       "4              <0      24.0              delayed previously   \n",
       "\n",
       "               purpose  credit_amount    savings_status employment  \\\n",
       "0             radio/tv         1169.0  no known savings        >=7   \n",
       "1             radio/tv         5951.0              <100     1<=X<4   \n",
       "2            education         2096.0              <100     4<=X<7   \n",
       "3  furniture/equipment         7882.0              <100     4<=X<7   \n",
       "4              new car         4870.0              <100     1<=X<4   \n",
       "\n",
       "   installment_commitment other_parties  residence_since  ...  \\\n",
       "0                     4.0          none              4.0  ...   \n",
       "1                     2.0          none              2.0  ...   \n",
       "2                     2.0          none              3.0  ...   \n",
       "3                     2.0     guarantor              4.0  ...   \n",
       "4                     3.0          none              4.0  ...   \n",
       "\n",
       "  other_payment_plans   housing existing_credits                 job  \\\n",
       "0                none       own              2.0             skilled   \n",
       "1                none       own              1.0             skilled   \n",
       "2                none       own              1.0  unskilled resident   \n",
       "3                none  for free              1.0             skilled   \n",
       "4                none  for free              2.0             skilled   \n",
       "\n",
       "   num_dependents own_telephone  foreign_worker class     sex     marriage  \n",
       "0             1.0           yes             yes  good    male       single  \n",
       "1             1.0          none             yes   bad  female  div/dep/mar  \n",
       "2             2.0          none             yes  good    male       single  \n",
       "3             2.0          none             yes  good    male       single  \n",
       "4             2.0          none             yes   bad    male       single  \n",
       "\n",
       "[5 rows x 22 columns]"
      ]
     },
     "execution_count": 6,
     "metadata": {},
     "output_type": "execute_result"
    }
   ],
   "source": [
    "credit_customers_data.head(5)"
   ]
  },
  {
   "cell_type": "code",
   "execution_count": 7,
   "id": "795ce2c7",
   "metadata": {},
   "outputs": [],
   "source": [
    "credit_customers_data['checking_status'].replace(['no checking', '<0', '0<=X<200', '>=200'], [0,1,2,3], inplace = True)\n",
    "credit_customers_data['credit_history'].replace(['critical/other existing credit', 'delayed previously' , 'existing paid', 'no credits/all paid', 'all paid'], [0,1,2,2,2], inplace = True)\n",
    "credit_customers_data['purpose'].replace(['business', 'new car','used car', 'education', 'retraining', 'other','domestic appliance','radio/tv','furniture/equipment','repairs'], [5,5,4,4,3,3,3,2,2,1], inplace = True)\n",
    "credit_customers_data['savings_status'].replace(['no known savings', '<100','100<=X<500','500<=X<1000','>=1000'], [0,1,2,3,4], inplace = True)\n",
    "credit_customers_data['employment'].replace(['unemployed', '<1','1<=X<4','4<=X<7','>=7'], [0,1,2,3,4], inplace = True)\n",
    "credit_customers_data['other_parties'].replace(['none', 'co applicant', 'guarantor'], [0,1,2], inplace = True)\n",
    "credit_customers_data['property_magnitude'].replace(['no known property', 'life insurance', 'car', 'real estate'], [0,1,2,3], inplace = True)\n",
    "credit_customers_data['other_payment_plans'].replace(['none', 'stores', 'bank'], [0,1,1], inplace = True)\n",
    "credit_customers_data['housing'].replace(['for free', 'rent', 'own'], [0,1,2], inplace = True)\n",
    "credit_customers_data['job'].replace(['unemp/unskilled non res', 'unskilled resident', 'skilled', 'high qualif/self emp/mgmt'], [0,1,2,3], inplace = True)\n",
    "credit_customers_data['own_telephone'].replace(['yes', 'none'], [1,0], inplace = True)\n",
    "credit_customers_data['foreign_worker'].replace(['yes', 'no'], [1,0], inplace = True)\n",
    "credit_customers_data['class'].replace(['good', 'bad'], [1,0], inplace = True)\n",
    "credit_customers_data['sex'].replace(['male', 'female'], [1,0], inplace = True)\n",
    "credit_customers_data['marriage'].replace(['single', 'div/sep','div/dep/mar','mar/wid'], [0,0,1,1], inplace = True)"
   ]
  },
  {
   "cell_type": "code",
   "execution_count": 8,
   "id": "57b4212d",
   "metadata": {},
   "outputs": [
    {
     "data": {
      "text/html": [
       "<div>\n",
       "<style scoped>\n",
       "    .dataframe tbody tr th:only-of-type {\n",
       "        vertical-align: middle;\n",
       "    }\n",
       "\n",
       "    .dataframe tbody tr th {\n",
       "        vertical-align: top;\n",
       "    }\n",
       "\n",
       "    .dataframe thead th {\n",
       "        text-align: right;\n",
       "    }\n",
       "</style>\n",
       "<table border=\"1\" class=\"dataframe\">\n",
       "  <thead>\n",
       "    <tr style=\"text-align: right;\">\n",
       "      <th></th>\n",
       "      <th>checking_status</th>\n",
       "      <th>duration</th>\n",
       "      <th>credit_history</th>\n",
       "      <th>purpose</th>\n",
       "      <th>credit_amount</th>\n",
       "      <th>savings_status</th>\n",
       "      <th>employment</th>\n",
       "      <th>installment_commitment</th>\n",
       "      <th>other_parties</th>\n",
       "      <th>residence_since</th>\n",
       "      <th>...</th>\n",
       "      <th>other_payment_plans</th>\n",
       "      <th>housing</th>\n",
       "      <th>existing_credits</th>\n",
       "      <th>job</th>\n",
       "      <th>num_dependents</th>\n",
       "      <th>own_telephone</th>\n",
       "      <th>foreign_worker</th>\n",
       "      <th>class</th>\n",
       "      <th>sex</th>\n",
       "      <th>marriage</th>\n",
       "    </tr>\n",
       "  </thead>\n",
       "  <tbody>\n",
       "    <tr>\n",
       "      <th>0</th>\n",
       "      <td>1</td>\n",
       "      <td>6.0</td>\n",
       "      <td>0</td>\n",
       "      <td>2</td>\n",
       "      <td>1169.0</td>\n",
       "      <td>0</td>\n",
       "      <td>4</td>\n",
       "      <td>4.0</td>\n",
       "      <td>0</td>\n",
       "      <td>4.0</td>\n",
       "      <td>...</td>\n",
       "      <td>0</td>\n",
       "      <td>2</td>\n",
       "      <td>2.0</td>\n",
       "      <td>2</td>\n",
       "      <td>1.0</td>\n",
       "      <td>1</td>\n",
       "      <td>1</td>\n",
       "      <td>1</td>\n",
       "      <td>1</td>\n",
       "      <td>0</td>\n",
       "    </tr>\n",
       "    <tr>\n",
       "      <th>1</th>\n",
       "      <td>2</td>\n",
       "      <td>48.0</td>\n",
       "      <td>2</td>\n",
       "      <td>2</td>\n",
       "      <td>5951.0</td>\n",
       "      <td>1</td>\n",
       "      <td>2</td>\n",
       "      <td>2.0</td>\n",
       "      <td>0</td>\n",
       "      <td>2.0</td>\n",
       "      <td>...</td>\n",
       "      <td>0</td>\n",
       "      <td>2</td>\n",
       "      <td>1.0</td>\n",
       "      <td>2</td>\n",
       "      <td>1.0</td>\n",
       "      <td>0</td>\n",
       "      <td>1</td>\n",
       "      <td>0</td>\n",
       "      <td>0</td>\n",
       "      <td>1</td>\n",
       "    </tr>\n",
       "    <tr>\n",
       "      <th>2</th>\n",
       "      <td>0</td>\n",
       "      <td>12.0</td>\n",
       "      <td>0</td>\n",
       "      <td>4</td>\n",
       "      <td>2096.0</td>\n",
       "      <td>1</td>\n",
       "      <td>3</td>\n",
       "      <td>2.0</td>\n",
       "      <td>0</td>\n",
       "      <td>3.0</td>\n",
       "      <td>...</td>\n",
       "      <td>0</td>\n",
       "      <td>2</td>\n",
       "      <td>1.0</td>\n",
       "      <td>1</td>\n",
       "      <td>2.0</td>\n",
       "      <td>0</td>\n",
       "      <td>1</td>\n",
       "      <td>1</td>\n",
       "      <td>1</td>\n",
       "      <td>0</td>\n",
       "    </tr>\n",
       "    <tr>\n",
       "      <th>3</th>\n",
       "      <td>1</td>\n",
       "      <td>42.0</td>\n",
       "      <td>2</td>\n",
       "      <td>2</td>\n",
       "      <td>7882.0</td>\n",
       "      <td>1</td>\n",
       "      <td>3</td>\n",
       "      <td>2.0</td>\n",
       "      <td>2</td>\n",
       "      <td>4.0</td>\n",
       "      <td>...</td>\n",
       "      <td>0</td>\n",
       "      <td>0</td>\n",
       "      <td>1.0</td>\n",
       "      <td>2</td>\n",
       "      <td>2.0</td>\n",
       "      <td>0</td>\n",
       "      <td>1</td>\n",
       "      <td>1</td>\n",
       "      <td>1</td>\n",
       "      <td>0</td>\n",
       "    </tr>\n",
       "    <tr>\n",
       "      <th>4</th>\n",
       "      <td>1</td>\n",
       "      <td>24.0</td>\n",
       "      <td>1</td>\n",
       "      <td>5</td>\n",
       "      <td>4870.0</td>\n",
       "      <td>1</td>\n",
       "      <td>2</td>\n",
       "      <td>3.0</td>\n",
       "      <td>0</td>\n",
       "      <td>4.0</td>\n",
       "      <td>...</td>\n",
       "      <td>0</td>\n",
       "      <td>0</td>\n",
       "      <td>2.0</td>\n",
       "      <td>2</td>\n",
       "      <td>2.0</td>\n",
       "      <td>0</td>\n",
       "      <td>1</td>\n",
       "      <td>0</td>\n",
       "      <td>1</td>\n",
       "      <td>0</td>\n",
       "    </tr>\n",
       "  </tbody>\n",
       "</table>\n",
       "<p>5 rows × 22 columns</p>\n",
       "</div>"
      ],
      "text/plain": [
       "   checking_status  duration  credit_history  purpose  credit_amount  \\\n",
       "0                1       6.0               0        2         1169.0   \n",
       "1                2      48.0               2        2         5951.0   \n",
       "2                0      12.0               0        4         2096.0   \n",
       "3                1      42.0               2        2         7882.0   \n",
       "4                1      24.0               1        5         4870.0   \n",
       "\n",
       "   savings_status  employment  installment_commitment  other_parties  \\\n",
       "0               0           4                     4.0              0   \n",
       "1               1           2                     2.0              0   \n",
       "2               1           3                     2.0              0   \n",
       "3               1           3                     2.0              2   \n",
       "4               1           2                     3.0              0   \n",
       "\n",
       "   residence_since  ...  other_payment_plans  housing  existing_credits  job  \\\n",
       "0              4.0  ...                    0        2               2.0    2   \n",
       "1              2.0  ...                    0        2               1.0    2   \n",
       "2              3.0  ...                    0        2               1.0    1   \n",
       "3              4.0  ...                    0        0               1.0    2   \n",
       "4              4.0  ...                    0        0               2.0    2   \n",
       "\n",
       "   num_dependents  own_telephone  foreign_worker  class  sex  marriage  \n",
       "0             1.0              1               1      1    1         0  \n",
       "1             1.0              0               1      0    0         1  \n",
       "2             2.0              0               1      1    1         0  \n",
       "3             2.0              0               1      1    1         0  \n",
       "4             2.0              0               1      0    1         0  \n",
       "\n",
       "[5 rows x 22 columns]"
      ]
     },
     "execution_count": 8,
     "metadata": {},
     "output_type": "execute_result"
    }
   ],
   "source": [
    "credit_customers_data.head()"
   ]
  },
  {
   "cell_type": "code",
   "execution_count": 9,
   "id": "869af7dd",
   "metadata": {},
   "outputs": [
    {
     "data": {
      "image/png": "[encoded data removed]",
      "text/plain": [
       "<Figure size 720x360 with 1 Axes>"
      ]
     },
     "metadata": {
      "needs_background": "light"
     },
     "output_type": "display_data"
    }
   ],
   "source": [
    "data2 = pd.DataFrame(credit_customers_data.groupby(['sex'])['marriage'].sum()).reset_index()\n",
    "plt.figure(figsize=(10,5))\n",
    "ax = sns.lineplot(x = 'sex', y='marriage', data = data2)"
   ]
  },
  {
   "cell_type": "code",
   "execution_count": 10,
   "id": "4a41e0ed",
   "metadata": {},
   "outputs": [
    {
     "data": {
      "text/html": [
       "<div>\n",
       "<style scoped>\n",
       "    .dataframe tbody tr th:only-of-type {\n",
       "        vertical-align: middle;\n",
       "    }\n",
       "\n",
       "    .dataframe tbody tr th {\n",
       "        vertical-align: top;\n",
       "    }\n",
       "\n",
       "    .dataframe thead th {\n",
       "        text-align: right;\n",
       "    }\n",
       "</style>\n",
       "<table border=\"1\" class=\"dataframe\">\n",
       "  <thead>\n",
       "    <tr style=\"text-align: right;\">\n",
       "      <th></th>\n",
       "      <th>checking_status</th>\n",
       "      <th>duration</th>\n",
       "      <th>credit_history</th>\n",
       "      <th>purpose</th>\n",
       "      <th>credit_amount</th>\n",
       "      <th>savings_status</th>\n",
       "      <th>employment</th>\n",
       "      <th>installment_commitment</th>\n",
       "      <th>other_parties</th>\n",
       "      <th>residence_since</th>\n",
       "      <th>...</th>\n",
       "      <th>age</th>\n",
       "      <th>other_payment_plans</th>\n",
       "      <th>housing</th>\n",
       "      <th>existing_credits</th>\n",
       "      <th>job</th>\n",
       "      <th>num_dependents</th>\n",
       "      <th>own_telephone</th>\n",
       "      <th>foreign_worker</th>\n",
       "      <th>class</th>\n",
       "      <th>marriage</th>\n",
       "    </tr>\n",
       "    <tr>\n",
       "      <th>sex</th>\n",
       "      <th></th>\n",
       "      <th></th>\n",
       "      <th></th>\n",
       "      <th></th>\n",
       "      <th></th>\n",
       "      <th></th>\n",
       "      <th></th>\n",
       "      <th></th>\n",
       "      <th></th>\n",
       "      <th></th>\n",
       "      <th></th>\n",
       "      <th></th>\n",
       "      <th></th>\n",
       "      <th></th>\n",
       "      <th></th>\n",
       "      <th></th>\n",
       "      <th></th>\n",
       "      <th></th>\n",
       "      <th></th>\n",
       "      <th></th>\n",
       "      <th></th>\n",
       "    </tr>\n",
       "  </thead>\n",
       "  <tbody>\n",
       "    <tr>\n",
       "      <th>0</th>\n",
       "      <td>320</td>\n",
       "      <td>6026.0</td>\n",
       "      <td>446</td>\n",
       "      <td>984</td>\n",
       "      <td>892110.0</td>\n",
       "      <td>382</td>\n",
       "      <td>629</td>\n",
       "      <td>877.0</td>\n",
       "      <td>42</td>\n",
       "      <td>889.0</td>\n",
       "      <td>...</td>\n",
       "      <td>10169.0</td>\n",
       "      <td>50</td>\n",
       "      <td>487</td>\n",
       "      <td>411.0</td>\n",
       "      <td>569</td>\n",
       "      <td>324.0</td>\n",
       "      <td>108</td>\n",
       "      <td>303</td>\n",
       "      <td>201</td>\n",
       "      <td>310</td>\n",
       "    </tr>\n",
       "    <tr>\n",
       "      <th>1</th>\n",
       "      <td>681</td>\n",
       "      <td>14877.0</td>\n",
       "      <td>880</td>\n",
       "      <td>2326</td>\n",
       "      <td>2379148.0</td>\n",
       "      <td>808</td>\n",
       "      <td>1755</td>\n",
       "      <td>2096.0</td>\n",
       "      <td>103</td>\n",
       "      <td>1956.0</td>\n",
       "      <td>...</td>\n",
       "      <td>25377.0</td>\n",
       "      <td>136</td>\n",
       "      <td>1118</td>\n",
       "      <td>996.0</td>\n",
       "      <td>1335</td>\n",
       "      <td>831.0</td>\n",
       "      <td>296</td>\n",
       "      <td>660</td>\n",
       "      <td>499</td>\n",
       "      <td>92</td>\n",
       "    </tr>\n",
       "  </tbody>\n",
       "</table>\n",
       "<p>2 rows × 21 columns</p>\n",
       "</div>"
      ],
      "text/plain": [
       "     checking_status  duration  credit_history  purpose  credit_amount  \\\n",
       "sex                                                                      \n",
       "0                320    6026.0             446      984       892110.0   \n",
       "1                681   14877.0             880     2326      2379148.0   \n",
       "\n",
       "     savings_status  employment  installment_commitment  other_parties  \\\n",
       "sex                                                                      \n",
       "0               382         629                   877.0             42   \n",
       "1               808        1755                  2096.0            103   \n",
       "\n",
       "     residence_since  ...      age  other_payment_plans  housing  \\\n",
       "sex                   ...                                          \n",
       "0              889.0  ...  10169.0                   50      487   \n",
       "1             1956.0  ...  25377.0                  136     1118   \n",
       "\n",
       "     existing_credits   job  num_dependents  own_telephone  foreign_worker  \\\n",
       "sex                                                                          \n",
       "0               411.0   569           324.0            108             303   \n",
       "1               996.0  1335           831.0            296             660   \n",
       "\n",
       "     class  marriage  \n",
       "sex                   \n",
       "0      201       310  \n",
       "1      499        92  \n",
       "\n",
       "[2 rows x 21 columns]"
      ]
     },
     "execution_count": 10,
     "metadata": {},
     "output_type": "execute_result"
    }
   ],
   "source": [
    "credit_customers_data.groupby('sex').sum().sort_values(by='marriage', ascending=False)"
   ]
  },
  {
   "cell_type": "code",
   "execution_count": 11,
   "id": "6c13e98a",
   "metadata": {},
   "outputs": [
    {
     "data": {
      "text/plain": [
       "checking_status             int64\n",
       "duration                  float64\n",
       "credit_history              int64\n",
       "purpose                     int64\n",
       "credit_amount             float64\n",
       "savings_status              int64\n",
       "employment                  int64\n",
       "installment_commitment    float64\n",
       "other_parties               int64\n",
       "residence_since           float64\n",
       "property_magnitude          int64\n",
       "age                       float64\n",
       "other_payment_plans         int64\n",
       "housing                     int64\n",
       "existing_credits          float64\n",
       "job                         int64\n",
       "num_dependents            float64\n",
       "own_telephone               int64\n",
       "foreign_worker              int64\n",
       "class                       int64\n",
       "sex                         int64\n",
       "marriage                    int64\n",
       "dtype: object"
      ]
     },
     "execution_count": 11,
     "metadata": {},
     "output_type": "execute_result"
    }
   ],
   "source": [
    "credit_customers_data.dtypes"
   ]
  },
  {
   "cell_type": "code",
   "execution_count": 12,
   "id": "bcad16bd",
   "metadata": {},
   "outputs": [
    {
     "name": "stdout",
     "output_type": "stream",
     "text": [
      "1    700\n",
      "0    300\n",
      "Name: class, dtype: int64\n"
     ]
    }
   ],
   "source": [
    "print(credit_customers_data['class'].value_counts())"
   ]
  },
  {
   "cell_type": "code",
   "execution_count": 13,
   "id": "36bfa6ba",
   "metadata": {},
   "outputs": [],
   "source": [
    "from sklearn.preprocessing import StandardScaler\n",
    "X = credit_customers_data.drop(['class'], axis=1)\n",
    "y = credit_customers_data['class']\n",
    "std_scaler = StandardScaler()\n",
    "Xa = std_scaler.fit_transform(X)"
   ]
  },
  {
   "cell_type": "code",
   "execution_count": 14,
   "id": "5b442184",
   "metadata": {},
   "outputs": [
    {
     "data": {
      "image/png": "[encoded data removed]",
      "text/plain": [
       "<Figure size 1080x576 with 1 Axes>"
      ]
     },
     "metadata": {},
     "output_type": "display_data"
    }
   ],
   "source": [
    "sns.set_style(\"whitegrid\")\n",
    "plt.figure(figsize = (15,8))\n",
    "plt.xticks(rotation=65,size=10)\n",
    "sns.countplot(x='class', data=credit_customers_data) \n",
    "plt.show()"
   ]
  },
  {
   "cell_type": "code",
   "execution_count": 15,
   "id": "8c5e8cab",
   "metadata": {},
   "outputs": [],
   "source": [
    "X = pd.DataFrame(Xa, columns = X.columns)"
   ]
  },
  {
   "cell_type": "code",
   "execution_count": 16,
   "id": "843a34c6",
   "metadata": {},
   "outputs": [
    {
     "data": {
      "text/plain": [
       "Index(['checking_status', 'duration', 'credit_history', 'purpose',\n",
       "       'credit_amount', 'savings_status', 'employment',\n",
       "       'installment_commitment', 'other_parties', 'residence_since',\n",
       "       'property_magnitude', 'age', 'other_payment_plans', 'housing',\n",
       "       'existing_credits', 'job', 'num_dependents', 'own_telephone',\n",
       "       'foreign_worker', 'class', 'sex', 'marriage'],\n",
       "      dtype='object')"
      ]
     },
     "execution_count": 16,
     "metadata": {},
     "output_type": "execute_result"
    }
   ],
   "source": [
    "credit_customers_data.columns\n"
   ]
  },
  {
   "cell_type": "markdown",
   "id": "45ba34fa",
   "metadata": {},
   "source": [
    "Model Building and Selection"
   ]
  },
  {
   "cell_type": "code",
   "execution_count": 17,
   "id": "842b3bad",
   "metadata": {},
   "outputs": [],
   "source": [
    "# splitting data into training and test data at 80% and 20% respectively\n",
    "from sklearn.model_selection import train_test_split\n",
    "xm_train, xm_test, ym_train, ym_test = train_test_split(X, y, train_size = 0.8, random_state = 100)"
   ]
  },
  {
   "cell_type": "markdown",
   "id": "9c7b18cf",
   "metadata": {},
   "source": [
    "Building model with multiple linear regression"
   ]
  },
  {
   "cell_type": "code",
   "execution_count": 18,
   "id": "a87dd5d8",
   "metadata": {},
   "outputs": [
    {
     "name": "stdout",
     "output_type": "stream",
     "text": [
      "Mean Square Error:  0.18387803810887224\n",
      "Variance or r-squared:  0.09015987482634436\n"
     ]
    }
   ],
   "source": [
    "lin = lm.LinearRegression()\n",
    "lin.fit(xm_train, ym_train)\n",
    "y_pred = lin.predict(xm_test)\n",
    "print(\"Mean Square Error: \", mean_squared_error(ym_test, y_pred))\n",
    "print(\"Variance or r-squared: \", explained_variance_score(ym_test, y_pred))"
   ]
  },
  {
   "cell_type": "markdown",
   "id": "bf813926",
   "metadata": {},
   "source": [
    "Building model with Random Forest Regressor"
   ]
  },
  {
   "cell_type": "code",
   "execution_count": 19,
   "id": "a795806c",
   "metadata": {},
   "outputs": [
    {
     "name": "stdout",
     "output_type": "stream",
     "text": [
      "Mean Square Error:  0.16828402366863904\n",
      "Variance or r-squared:  0.17582417582417587\n"
     ]
    }
   ],
   "source": [
    "from sklearn.ensemble import RandomForestRegressor\n",
    "from sklearn.datasets import make_regression\n",
    "\n",
    "rfr = RandomForestRegressor(n_estimators=13, random_state=0)\n",
    "rfr.fit(xm_train, ym_train)\n",
    "y_predicted = rfr.predict(xm_test)\n",
    "print(\"Mean Square Error: \", mean_squared_error(ym_test, y_predicted))\n",
    "print(\"Variance or r-squared: \", explained_variance_score(ym_test, y_predicted))"
   ]
  },
  {
   "cell_type": "markdown",
   "id": "e8ad1893",
   "metadata": {},
   "source": [
    "Building model with Decision Tree Regressor"
   ]
  },
  {
   "cell_type": "code",
   "execution_count": 20,
   "id": "140618ac",
   "metadata": {},
   "outputs": [
    {
     "name": "stdout",
     "output_type": "stream",
     "text": [
      "Mean Square Error:  0.31\n",
      "Variance or r-squared:  -0.5252976190476188\n"
     ]
    }
   ],
   "source": [
    "from sklearn import tree\n",
    "from sklearn.metrics import mean_squared_error, explained_variance_score\n",
    "\n",
    "dtr = tree.DecisionTreeRegressor()\n",
    "dtr.fit(xm_train, ym_train)\n",
    "ntree = dtr.predict(xm_test)\n",
    "print(\"Mean Square Error: \", mean_squared_error(ym_test, ntree))\n",
    "print(\"Variance or r-squared: \", explained_variance_score(ym_test, ntree))"
   ]
  },
  {
   "cell_type": "markdown",
   "id": "25eae289",
   "metadata": {},
   "source": [
    "Tuning our model before deployment"
   ]
  },
  {
   "cell_type": "code",
   "execution_count": 21,
   "id": "d034e374",
   "metadata": {},
   "outputs": [
    {
     "name": "stdout",
     "output_type": "stream",
     "text": [
      "GridSearchCV(cv=5, estimator=RandomForestRegressor(),\n",
      "             param_grid=[{'max_features': [2, 4, 6, 8],\n",
      "                          'n_estimators': [3, 10, 30]},\n",
      "                         {'bootstrap': [False], 'max_features': [2, 3, 4],\n",
      "                          'n_estimators': [3, 10]}],\n",
      "             return_train_score=True, scoring='neg_mean_squared_error')\n"
     ]
    }
   ],
   "source": [
    "# Tuning our model\n",
    "from sklearn.model_selection import GridSearchCV\n",
    "\n",
    "param_grid = [\n",
    "    {'n_estimators': [3, 10, 30], 'max_features': [2, 4, 6, 8]},\n",
    "    {'bootstrap': [False], 'n_estimators': [3, 10], 'max_features': [2, 3, 4]},\n",
    "  ]\n",
    "\n",
    "forest_reg = RandomForestRegressor()\n",
    "\n",
    "grid_search = GridSearchCV(forest_reg, param_grid, cv=5,\n",
    "                           scoring='neg_mean_squared_error',\n",
    "                           return_train_score=True)\n",
    "\n",
    "grid_search.fit(X, y)\n",
    "print(grid_search)"
   ]
  },
  {
   "cell_type": "code",
   "execution_count": 22,
   "id": "b18dd778",
   "metadata": {},
   "outputs": [
    {
     "data": {
      "text/plain": [
       "{'max_features': 4, 'n_estimators': 30}"
      ]
     },
     "execution_count": 22,
     "metadata": {},
     "output_type": "execute_result"
    }
   ],
   "source": [
    "# obtaining the best parameters\n",
    "grid_search.best_params_"
   ]
  },
  {
   "cell_type": "code",
   "execution_count": 23,
   "id": "62161d2b",
   "metadata": {},
   "outputs": [
    {
     "data": {
      "text/plain": [
       "RandomForestRegressor(max_features=4, n_estimators=30)"
      ]
     },
     "execution_count": 23,
     "metadata": {},
     "output_type": "execute_result"
    }
   ],
   "source": [
    "# obtaining the best estimators\n",
    "grid_search.best_estimator_"
   ]
  },
  {
   "cell_type": "code",
   "execution_count": 24,
   "id": "dcad208c",
   "metadata": {},
   "outputs": [
    {
     "name": "stdout",
     "output_type": "stream",
     "text": [
      "0.47187568984497036 {'max_features': 2, 'n_estimators': 3}\n",
      "0.4364057744805859 {'max_features': 2, 'n_estimators': 10}\n",
      "0.41188590653237944 {'max_features': 2, 'n_estimators': 30}\n",
      "0.46642851065898144 {'max_features': 4, 'n_estimators': 3}\n",
      "0.43024411675233865 {'max_features': 4, 'n_estimators': 10}\n",
      "0.4117739401392198 {'max_features': 4, 'n_estimators': 30}\n",
      "0.46785562825394 {'max_features': 6, 'n_estimators': 3}\n",
      "0.4227883631321941 {'max_features': 6, 'n_estimators': 10}\n",
      "0.414301285968986 {'max_features': 6, 'n_estimators': 30}\n",
      "0.466309387043028 {'max_features': 8, 'n_estimators': 3}\n",
      "0.4130617387267913 {'max_features': 8, 'n_estimators': 10}\n",
      "0.4134945921989522 {'max_features': 8, 'n_estimators': 30}\n",
      "0.47069688288276945 {'bootstrap': False, 'max_features': 2, 'n_estimators': 3}\n",
      "0.4273523136710506 {'bootstrap': False, 'max_features': 2, 'n_estimators': 10}\n",
      "0.4714045207910317 {'bootstrap': False, 'max_features': 3, 'n_estimators': 3}\n",
      "0.4223032086072755 {'bootstrap': False, 'max_features': 3, 'n_estimators': 10}\n",
      "0.4629614814791111 {'bootstrap': False, 'max_features': 4, 'n_estimators': 3}\n",
      "0.4255467071897044 {'bootstrap': False, 'max_features': 4, 'n_estimators': 10}\n"
     ]
    }
   ],
   "source": [
    "# printing all MSE for each parameter combinations\n",
    "cvres = grid_search.cv_results_\n",
    "for mean_score, params in zip(cvres[\"mean_test_score\"], cvres[\"params\"]):\n",
    "     print(np.sqrt(-mean_score), params)"
   ]
  },
  {
   "cell_type": "code",
   "execution_count": 25,
   "id": "27f919c6",
   "metadata": {},
   "outputs": [],
   "source": [
    "from sklearn.preprocessing import StandardScaler\n",
    "sc = StandardScaler()\n",
    "\n",
    "xm_train = sc.fit_transform(xm_train)\n",
    "xm_test = sc.transform(xm_test)"
   ]
  },
  {
   "cell_type": "code",
   "execution_count": 26,
   "id": "4d2a6353",
   "metadata": {},
   "outputs": [],
   "source": [
    "from sklearn.model_selection import cross_val_predict, cross_val_score\n",
    "from sklearn.metrics import confusion_matrix,classification_report,accuracy_score"
   ]
  },
  {
   "cell_type": "code",
   "execution_count": 27,
   "id": "7161a35d",
   "metadata": {},
   "outputs": [],
   "source": [
    "def print_score(classifier,xm_train,ym_train,xm_test,ym_test,train=True):\n",
    "    if train == True:\n",
    "        print(\"Training results:\\n\")\n",
    "        print('Accuracy Score: {0:.4f}\\n'.format(accuracy_score(ym_train,classifier.predict(xm_train))))\n",
    "        print('Classification Report:\\n{}\\n'.format(classification_report(ym_train,classifier.predict(xm_train))))\n",
    "        print('Confusion Matrix:\\n{}\\n'.format(confusion_matrix(ym_train,classifier.predict(xm_train))))\n",
    "        res = cross_val_score(classifier, xm_train, ym_train, cv=10, n_jobs=-1, scoring='accuracy')\n",
    "        print('Average Accuracy:\\t{0:.4f}\\n'.format(res.mean()))\n",
    "        print('Standard Deviation:\\t{0:.4f}'.format(res.std()))\n",
    "    elif train == False:\n",
    "        print(\"Test results:\\n\")\n",
    "        print('Accuracy Score: {0:.4f}\\n'.format(accuracy_score(ym_test,classifier.predict(xm_test))))\n",
    "        print('Classification Report:\\n{}\\n'.format(classification_report(ym_test,classifier.predict(xm_test))))\n",
    "        print('Confusion Matrix:\\n{}\\n'.format(confusion_matrix(ym_test,classifier.predict(xm_test))))"
   ]
  },
  {
   "cell_type": "code",
   "execution_count": 28,
   "id": "6d559fe1",
   "metadata": {},
   "outputs": [
    {
     "data": {
      "text/plain": [
       "LogisticRegression()"
      ]
     },
     "execution_count": 28,
     "metadata": {},
     "output_type": "execute_result"
    }
   ],
   "source": [
    "from sklearn.linear_model import LogisticRegression\n",
    "classifier = LogisticRegression()\n",
    "\n",
    "classifier.fit(xm_train,ym_train)"
   ]
  },
  {
   "cell_type": "code",
   "execution_count": 29,
   "id": "b96ea125",
   "metadata": {},
   "outputs": [
    {
     "name": "stdout",
     "output_type": "stream",
     "text": [
      "Training results:\n",
      "\n",
      "Accuracy Score: 0.7338\n",
      "\n",
      "Classification Report:\n",
      "              precision    recall  f1-score   support\n",
      "\n",
      "           0       0.60      0.37      0.46       244\n",
      "           1       0.76      0.89      0.82       556\n",
      "\n",
      "    accuracy                           0.73       800\n",
      "   macro avg       0.68      0.63      0.64       800\n",
      "weighted avg       0.71      0.73      0.71       800\n",
      "\n",
      "\n",
      "Confusion Matrix:\n",
      "[[ 91 153]\n",
      " [ 60 496]]\n",
      "\n",
      "Average Accuracy:\t0.7137\n",
      "\n",
      "Standard Deviation:\t0.0265\n"
     ]
    }
   ],
   "source": [
    "print_score(classifier,xm_train,ym_train,xm_test,ym_test,train=True)"
   ]
  },
  {
   "cell_type": "code",
   "execution_count": 30,
   "id": "2d3a3406",
   "metadata": {},
   "outputs": [
    {
     "name": "stdout",
     "output_type": "stream",
     "text": [
      "Test results:\n",
      "\n",
      "Accuracy Score: 0.7000\n",
      "\n",
      "Classification Report:\n",
      "              precision    recall  f1-score   support\n",
      "\n",
      "           0       0.44      0.27      0.33        56\n",
      "           1       0.75      0.87      0.81       144\n",
      "\n",
      "    accuracy                           0.70       200\n",
      "   macro avg       0.60      0.57      0.57       200\n",
      "weighted avg       0.67      0.70      0.67       200\n",
      "\n",
      "\n",
      "Confusion Matrix:\n",
      "[[ 15  41]\n",
      " [ 19 125]]\n",
      "\n"
     ]
    }
   ],
   "source": [
    "print_score(classifier,xm_train,ym_train,xm_test,ym_test,train=False)"
   ]
  },
  {
   "cell_type": "code",
   "execution_count": 31,
   "id": "c00049df",
   "metadata": {},
   "outputs": [
    {
     "data": {
      "text/plain": [
       "SVC(random_state=37)"
      ]
     },
     "execution_count": 31,
     "metadata": {},
     "output_type": "execute_result"
    }
   ],
   "source": [
    "from sklearn.svm import SVC\n",
    "classifier = SVC(kernel='rbf',random_state=37)\n",
    "\n",
    "classifier.fit(xm_train,ym_train)"
   ]
  },
  {
   "cell_type": "code",
   "execution_count": 32,
   "id": "7035cc43",
   "metadata": {},
   "outputs": [
    {
     "name": "stdout",
     "output_type": "stream",
     "text": [
      "Training results:\n",
      "\n",
      "Accuracy Score: 0.8588\n",
      "\n",
      "Classification Report:\n",
      "              precision    recall  f1-score   support\n",
      "\n",
      "           0       0.95      0.57      0.71       244\n",
      "           1       0.84      0.99      0.91       556\n",
      "\n",
      "    accuracy                           0.86       800\n",
      "   macro avg       0.89      0.78      0.81       800\n",
      "weighted avg       0.87      0.86      0.85       800\n",
      "\n",
      "\n",
      "Confusion Matrix:\n",
      "[[138 106]\n",
      " [  7 549]]\n",
      "\n",
      "Average Accuracy:\t0.7325\n",
      "\n",
      "Standard Deviation:\t0.0341\n"
     ]
    }
   ],
   "source": [
    "print_score(classifier,xm_train,ym_train,xm_test,ym_test,train=True)"
   ]
  },
  {
   "cell_type": "code",
   "execution_count": 33,
   "id": "55ce5fc3",
   "metadata": {},
   "outputs": [
    {
     "name": "stdout",
     "output_type": "stream",
     "text": [
      "Test results:\n",
      "\n",
      "Accuracy Score: 0.7550\n",
      "\n",
      "Classification Report:\n",
      "              precision    recall  f1-score   support\n",
      "\n",
      "           0       0.61      0.34      0.44        56\n",
      "           1       0.78      0.92      0.84       144\n",
      "\n",
      "    accuracy                           0.76       200\n",
      "   macro avg       0.70      0.63      0.64       200\n",
      "weighted avg       0.73      0.76      0.73       200\n",
      "\n",
      "\n",
      "Confusion Matrix:\n",
      "[[ 19  37]\n",
      " [ 12 132]]\n",
      "\n"
     ]
    }
   ],
   "source": [
    "print_score(classifier,xm_train,ym_train,xm_test,ym_test,train=False)"
   ]
  },
  {
   "cell_type": "code",
   "execution_count": 34,
   "id": "7637247b",
   "metadata": {},
   "outputs": [
    {
     "data": {
      "text/plain": [
       "KNeighborsClassifier()"
      ]
     },
     "execution_count": 34,
     "metadata": {},
     "output_type": "execute_result"
    }
   ],
   "source": [
    "from sklearn.neighbors import KNeighborsClassifier as KNN\n",
    "\n",
    "classifier = KNN()\n",
    "classifier.fit(xm_train,ym_train)"
   ]
  },
  {
   "cell_type": "code",
   "execution_count": 35,
   "id": "7003a916",
   "metadata": {},
   "outputs": [
    {
     "name": "stdout",
     "output_type": "stream",
     "text": [
      "Training results:\n",
      "\n",
      "Accuracy Score: 0.8087\n",
      "\n",
      "Classification Report:\n",
      "              precision    recall  f1-score   support\n",
      "\n",
      "           0       0.76      0.55      0.64       244\n",
      "           1       0.82      0.92      0.87       556\n",
      "\n",
      "    accuracy                           0.81       800\n",
      "   macro avg       0.79      0.74      0.75       800\n",
      "weighted avg       0.80      0.81      0.80       800\n",
      "\n",
      "\n",
      "Confusion Matrix:\n",
      "[[134 110]\n",
      " [ 43 513]]\n",
      "\n",
      "Average Accuracy:\t0.7200\n",
      "\n",
      "Standard Deviation:\t0.0528\n"
     ]
    }
   ],
   "source": [
    "print_score(classifier,xm_train,ym_train,xm_test,ym_test,train=True)"
   ]
  },
  {
   "cell_type": "code",
   "execution_count": 36,
   "id": "b0b13f30",
   "metadata": {},
   "outputs": [
    {
     "name": "stdout",
     "output_type": "stream",
     "text": [
      "Test results:\n",
      "\n",
      "Accuracy Score: 0.6850\n",
      "\n",
      "Classification Report:\n",
      "              precision    recall  f1-score   support\n",
      "\n",
      "           0       0.42      0.34      0.38        56\n",
      "           1       0.76      0.82      0.79       144\n",
      "\n",
      "    accuracy                           0.69       200\n",
      "   macro avg       0.59      0.58      0.58       200\n",
      "weighted avg       0.67      0.69      0.67       200\n",
      "\n",
      "\n",
      "Confusion Matrix:\n",
      "[[ 19  37]\n",
      " [ 26 118]]\n",
      "\n"
     ]
    }
   ],
   "source": [
    "print_score(classifier,xm_train,ym_train,xm_test,ym_test,train=False)"
   ]
  },
  {
   "cell_type": "code",
   "execution_count": 37,
   "id": "134aaae1",
   "metadata": {},
   "outputs": [
    {
     "data": {
      "text/plain": [
       "GaussianNB()"
      ]
     },
     "execution_count": 37,
     "metadata": {},
     "output_type": "execute_result"
    }
   ],
   "source": [
    "from sklearn.naive_bayes import GaussianNB as NB\n",
    "\n",
    "classifier = NB()\n",
    "classifier.fit(xm_train,ym_train)"
   ]
  },
  {
   "cell_type": "code",
   "execution_count": 38,
   "id": "a3cb5380",
   "metadata": {},
   "outputs": [
    {
     "name": "stdout",
     "output_type": "stream",
     "text": [
      "Training results:\n",
      "\n",
      "Accuracy Score: 0.7375\n",
      "\n",
      "Classification Report:\n",
      "              precision    recall  f1-score   support\n",
      "\n",
      "           0       0.56      0.63      0.59       244\n",
      "           1       0.83      0.79      0.81       556\n",
      "\n",
      "    accuracy                           0.74       800\n",
      "   macro avg       0.70      0.71      0.70       800\n",
      "weighted avg       0.75      0.74      0.74       800\n",
      "\n",
      "\n",
      "Confusion Matrix:\n",
      "[[153  91]\n",
      " [119 437]]\n",
      "\n",
      "Average Accuracy:\t0.7113\n",
      "\n",
      "Standard Deviation:\t0.0482\n"
     ]
    }
   ],
   "source": [
    "print_score(classifier,xm_train,ym_train,xm_test,ym_test,train=True)"
   ]
  },
  {
   "cell_type": "code",
   "execution_count": 39,
   "id": "85b6af78",
   "metadata": {},
   "outputs": [
    {
     "name": "stdout",
     "output_type": "stream",
     "text": [
      "Test results:\n",
      "\n",
      "Accuracy Score: 0.6800\n",
      "\n",
      "Classification Report:\n",
      "              precision    recall  f1-score   support\n",
      "\n",
      "           0       0.44      0.57      0.50        56\n",
      "           1       0.81      0.72      0.76       144\n",
      "\n",
      "    accuracy                           0.68       200\n",
      "   macro avg       0.63      0.65      0.63       200\n",
      "weighted avg       0.71      0.68      0.69       200\n",
      "\n",
      "\n",
      "Confusion Matrix:\n",
      "[[ 32  24]\n",
      " [ 40 104]]\n",
      "\n"
     ]
    }
   ],
   "source": [
    "print_score(classifier,xm_train,ym_train,xm_test,ym_test,train=False)"
   ]
  },
  {
   "cell_type": "code",
   "execution_count": 40,
   "id": "7d61ff68",
   "metadata": {},
   "outputs": [
    {
     "data": {
      "text/plain": [
       "DecisionTreeClassifier(criterion='entropy', random_state=37)"
      ]
     },
     "execution_count": 40,
     "metadata": {},
     "output_type": "execute_result"
    }
   ],
   "source": [
    "from sklearn.tree import DecisionTreeClassifier as DT\n",
    "\n",
    "classifier = DT(criterion='entropy',random_state=37)\n",
    "classifier.fit(xm_train,ym_train)"
   ]
  },
  {
   "cell_type": "code",
   "execution_count": 41,
   "id": "724750f4",
   "metadata": {},
   "outputs": [
    {
     "name": "stdout",
     "output_type": "stream",
     "text": [
      "Training results:\n",
      "\n",
      "Accuracy Score: 1.0000\n",
      "\n",
      "Classification Report:\n",
      "              precision    recall  f1-score   support\n",
      "\n",
      "           0       1.00      1.00      1.00       244\n",
      "           1       1.00      1.00      1.00       556\n",
      "\n",
      "    accuracy                           1.00       800\n",
      "   macro avg       1.00      1.00      1.00       800\n",
      "weighted avg       1.00      1.00      1.00       800\n",
      "\n",
      "\n",
      "Confusion Matrix:\n",
      "[[244   0]\n",
      " [  0 556]]\n",
      "\n",
      "Average Accuracy:\t0.6675\n",
      "\n",
      "Standard Deviation:\t0.0448\n"
     ]
    }
   ],
   "source": [
    "print_score(classifier,xm_train,ym_train,xm_test,ym_test,train=True)"
   ]
  },
  {
   "cell_type": "code",
   "execution_count": 42,
   "id": "b8b942ea",
   "metadata": {},
   "outputs": [
    {
     "name": "stdout",
     "output_type": "stream",
     "text": [
      "Test results:\n",
      "\n",
      "Accuracy Score: 0.7150\n",
      "\n",
      "Classification Report:\n",
      "              precision    recall  f1-score   support\n",
      "\n",
      "           0       0.49      0.54      0.51        56\n",
      "           1       0.81      0.78      0.80       144\n",
      "\n",
      "    accuracy                           0.71       200\n",
      "   macro avg       0.65      0.66      0.66       200\n",
      "weighted avg       0.72      0.71      0.72       200\n",
      "\n",
      "\n",
      "Confusion Matrix:\n",
      "[[ 30  26]\n",
      " [ 31 113]]\n",
      "\n"
     ]
    }
   ],
   "source": [
    "print_score(classifier,xm_train,ym_train,xm_test,ym_test,train=False)"
   ]
  },
  {
   "cell_type": "code",
   "execution_count": 43,
   "id": "cc073987",
   "metadata": {},
   "outputs": [
    {
     "data": {
      "text/plain": [
       "RandomForestClassifier(criterion='entropy', n_estimators=50, random_state=37)"
      ]
     },
     "execution_count": 43,
     "metadata": {},
     "output_type": "execute_result"
    }
   ],
   "source": [
    "from sklearn.ensemble import RandomForestClassifier\n",
    "classifier = RandomForestClassifier(n_estimators = 50, criterion = 'entropy', random_state = 37)\n",
    "classifier.fit(xm_train, ym_train)"
   ]
  },
  {
   "cell_type": "code",
   "execution_count": 44,
   "id": "728e294b",
   "metadata": {},
   "outputs": [
    {
     "name": "stdout",
     "output_type": "stream",
     "text": [
      "Training results:\n",
      "\n",
      "Accuracy Score: 1.0000\n",
      "\n",
      "Classification Report:\n",
      "              precision    recall  f1-score   support\n",
      "\n",
      "           0       1.00      1.00      1.00       244\n",
      "           1       1.00      1.00      1.00       556\n",
      "\n",
      "    accuracy                           1.00       800\n",
      "   macro avg       1.00      1.00      1.00       800\n",
      "weighted avg       1.00      1.00      1.00       800\n",
      "\n",
      "\n",
      "Confusion Matrix:\n",
      "[[244   0]\n",
      " [  0 556]]\n",
      "\n",
      "Average Accuracy:\t0.7388\n",
      "\n",
      "Standard Deviation:\t0.0328\n"
     ]
    }
   ],
   "source": [
    "print_score(classifier,xm_train,ym_train,xm_test,ym_test,train=True)"
   ]
  },
  {
   "cell_type": "code",
   "execution_count": 45,
   "id": "d636779a",
   "metadata": {},
   "outputs": [
    {
     "name": "stdout",
     "output_type": "stream",
     "text": [
      "Test results:\n",
      "\n",
      "Accuracy Score: 0.7650\n",
      "\n",
      "Classification Report:\n",
      "              precision    recall  f1-score   support\n",
      "\n",
      "           0       0.62      0.43      0.51        56\n",
      "           1       0.80      0.90      0.85       144\n",
      "\n",
      "    accuracy                           0.77       200\n",
      "   macro avg       0.71      0.66      0.68       200\n",
      "weighted avg       0.75      0.77      0.75       200\n",
      "\n",
      "\n",
      "Confusion Matrix:\n",
      "[[ 24  32]\n",
      " [ 15 129]]\n",
      "\n"
     ]
    }
   ],
   "source": [
    "print_score(classifier,xm_train,ym_train,xm_test,ym_test,train=False)"
   ]
  },
  {
   "cell_type": "code",
   "execution_count": 46,
   "id": "7a190654",
   "metadata": {},
   "outputs": [
    {
     "data": {
      "image/png": "[encoded data removed]",
      "text/plain": [
       "<Figure size 720x720 with 2 Axes>"
      ]
     },
     "metadata": {},
     "output_type": "display_data"
    }
   ],
   "source": [
    "import matplotlib.pyplot as plt\n",
    "\n",
    "plt.figure(figsize=(10,10))\n",
    "\n",
    "sns.heatmap(credit_customers_data.corr())\n",
    "\n",
    "# df.drop(['credit_amount','duration'],axis=1,inplace=True)\n",
    "\n",
    "plt.show()"
   ]
  },
  {
   "cell_type": "code",
   "execution_count": 47,
   "id": "a31803b6",
   "metadata": {},
   "outputs": [
    {
     "data": {
      "image/png": "[encoded data removed]",
      "text/plain": [
       "<Figure size 1080x576 with 484 Axes>"
      ]
     },
     "metadata": {},
     "output_type": "display_data"
    }
   ],
   "source": [
    "pd.plotting.scatter_matrix(credit_customers_data, alpha=0.3,figsize=(15,8),diagonal='kde' )\n",
    "plt.tight_layout()"
   ]
  },
  {
   "cell_type": "code",
   "execution_count": null,
   "id": "0ac8cc4d",
   "metadata": {},
   "outputs": [],
   "source": []
  }
 ],
 "metadata": {
  "kernelspec": {
   "display_name": "Python 3 (ipykernel)",
   "language": "python",
   "name": "python3"
  },
  "language_info": {
   "codemirror_mode": {
    "name": "ipython",
    "version": 3
   },
   "file_extension": ".py",
   "mimetype": "text/x-python",
   "name": "python",
   "nbconvert_exporter": "python",
   "pygments_lexer": "ipython3",
   "version": "3.9.7"
  }
 },
 "nbformat": 4,
 "nbformat_minor": 5
}
