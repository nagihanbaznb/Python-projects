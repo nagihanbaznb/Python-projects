{
 "cells": [
  {
   "cell_type": "code",
   "execution_count": 3,
   "id": "ead174ef",
   "metadata": {},
   "outputs": [],
   "source": [
    "# We begin by importing all the necessary libraries needed\n",
    "import pandas as pd\n",
    "import numpy as np\n",
    "import seaborn as sns\n",
    "import matplotlib.pyplot as plt\n",
    "%matplotlib inline\n",
    "\n",
    "#regression packages\n",
    "import sklearn.linear_model as lm\n",
    "from sklearn.metrics import mean_squared_error\n",
    "from sklearn.metrics import explained_variance_score\n",
    "\n",
    "#lasso regression\n",
    "from sklearn import linear_model\n",
    "\n",
    "#f_regression (feature selection)\n",
    "from sklearn.feature_selection import f_regression\n",
    "from sklearn.feature_selection import SelectKBest\n",
    "\n",
    "# recursive feature selection (feature selection)\n",
    "from sklearn.feature_selection import RFE\n",
    "\n",
    "#ignore warning\n",
    "import warnings\n",
    "warnings.filterwarnings(\"ignore\")"
   ]
  },
  {
   "cell_type": "code",
   "execution_count": 4,
   "id": "b6727111",
   "metadata": {},
   "outputs": [],
   "source": [
    "file_loc = r\"C:\\Users\\USER\\Desktop\\Walmart (2).xlsx\"\n",
    "df = pd.read_excel(file_loc)"
   ]
  },
  {
   "cell_type": "code",
   "execution_count": 7,
   "id": "b8da3aac",
   "metadata": {},
   "outputs": [
    {
     "data": {
      "text/html": [
       "<div>\n",
       "<style scoped>\n",
       "    .dataframe tbody tr th:only-of-type {\n",
       "        vertical-align: middle;\n",
       "    }\n",
       "\n",
       "    .dataframe tbody tr th {\n",
       "        vertical-align: top;\n",
       "    }\n",
       "\n",
       "    .dataframe thead th {\n",
       "        text-align: right;\n",
       "    }\n",
       "</style>\n",
       "<table border=\"1\" class=\"dataframe\">\n",
       "  <thead>\n",
       "    <tr style=\"text-align: right;\">\n",
       "      <th></th>\n",
       "      <th>Store</th>\n",
       "      <th>Date</th>\n",
       "      <th>Weekly_Sales</th>\n",
       "      <th>Holiday_Flag</th>\n",
       "      <th>Temperature</th>\n",
       "      <th>Fuel_Price</th>\n",
       "      <th>CPI</th>\n",
       "      <th>Unemployment</th>\n",
       "    </tr>\n",
       "  </thead>\n",
       "  <tbody>\n",
       "    <tr>\n",
       "      <th>0</th>\n",
       "      <td>1</td>\n",
       "      <td>2010-02-05</td>\n",
       "      <td>1643690.90</td>\n",
       "      <td>0</td>\n",
       "      <td>42.31</td>\n",
       "      <td>2572</td>\n",
       "      <td>2.110964e+09</td>\n",
       "      <td>8106</td>\n",
       "    </tr>\n",
       "    <tr>\n",
       "      <th>1</th>\n",
       "      <td>1</td>\n",
       "      <td>2010-02-12</td>\n",
       "      <td>1641957.44</td>\n",
       "      <td>1</td>\n",
       "      <td>38.51</td>\n",
       "      <td>2548</td>\n",
       "      <td>2.112422e+09</td>\n",
       "      <td>8106</td>\n",
       "    </tr>\n",
       "    <tr>\n",
       "      <th>2</th>\n",
       "      <td>1</td>\n",
       "      <td>2010-02-19</td>\n",
       "      <td>1611968.17</td>\n",
       "      <td>0</td>\n",
       "      <td>39.93</td>\n",
       "      <td>2514</td>\n",
       "      <td>2.112891e+09</td>\n",
       "      <td>8106</td>\n",
       "    </tr>\n",
       "    <tr>\n",
       "      <th>3</th>\n",
       "      <td>1</td>\n",
       "      <td>2010-02-26</td>\n",
       "      <td>1409727.59</td>\n",
       "      <td>0</td>\n",
       "      <td>46.63</td>\n",
       "      <td>2561</td>\n",
       "      <td>2.113196e+09</td>\n",
       "      <td>8106</td>\n",
       "    </tr>\n",
       "    <tr>\n",
       "      <th>4</th>\n",
       "      <td>1</td>\n",
       "      <td>2010-03-05</td>\n",
       "      <td>1554806.68</td>\n",
       "      <td>0</td>\n",
       "      <td>46.5</td>\n",
       "      <td>2625</td>\n",
       "      <td>2.113501e+09</td>\n",
       "      <td>8106</td>\n",
       "    </tr>\n",
       "  </tbody>\n",
       "</table>\n",
       "</div>"
      ],
      "text/plain": [
       "   Store       Date  Weekly_Sales  Holiday_Flag Temperature Fuel_Price  \\\n",
       "0      1 2010-02-05    1643690.90             0       42.31       2572   \n",
       "1      1 2010-02-12    1641957.44             1       38.51       2548   \n",
       "2      1 2010-02-19    1611968.17             0       39.93       2514   \n",
       "3      1 2010-02-26    1409727.59             0       46.63       2561   \n",
       "4      1 2010-03-05    1554806.68             0        46.5       2625   \n",
       "\n",
       "            CPI Unemployment  \n",
       "0  2.110964e+09         8106  \n",
       "1  2.112422e+09         8106  \n",
       "2  2.112891e+09         8106  \n",
       "3  2.113196e+09         8106  \n",
       "4  2.113501e+09         8106  "
      ]
     },
     "execution_count": 7,
     "metadata": {},
     "output_type": "execute_result"
    }
   ],
   "source": [
    "df.head()"
   ]
  },
  {
   "cell_type": "code",
   "execution_count": 8,
   "id": "01689a64",
   "metadata": {},
   "outputs": [
    {
     "name": "stdout",
     "output_type": "stream",
     "text": [
      "<class 'pandas.core.frame.DataFrame'>\n",
      "RangeIndex: 6435 entries, 0 to 6434\n",
      "Data columns (total 8 columns):\n",
      " #   Column        Non-Null Count  Dtype         \n",
      "---  ------        --------------  -----         \n",
      " 0   Store         6435 non-null   int64         \n",
      " 1   Date          6435 non-null   datetime64[ns]\n",
      " 2   Weekly_Sales  6435 non-null   float64       \n",
      " 3   Holiday_Flag  6435 non-null   int64         \n",
      " 4   Temperature   6435 non-null   object        \n",
      " 5   Fuel_Price    6435 non-null   object        \n",
      " 6   CPI           6435 non-null   float64       \n",
      " 7   Unemployment  6435 non-null   object        \n",
      "dtypes: datetime64[ns](1), float64(2), int64(2), object(3)\n",
      "memory usage: 402.3+ KB\n"
     ]
    }
   ],
   "source": [
    "# Finding information about the dataset\n",
    "df.info()"
   ]
  },
  {
   "cell_type": "markdown",
   "id": "07fbd0df",
   "metadata": {},
   "source": [
    "##### We start our data cleaning from here"
   ]
  },
  {
   "cell_type": "code",
   "execution_count": 9,
   "id": "3c6e19c6",
   "metadata": {},
   "outputs": [
    {
     "data": {
      "text/html": [
       "<div>\n",
       "<style scoped>\n",
       "    .dataframe tbody tr th:only-of-type {\n",
       "        vertical-align: middle;\n",
       "    }\n",
       "\n",
       "    .dataframe tbody tr th {\n",
       "        vertical-align: top;\n",
       "    }\n",
       "\n",
       "    .dataframe thead th {\n",
       "        text-align: right;\n",
       "    }\n",
       "</style>\n",
       "<table border=\"1\" class=\"dataframe\">\n",
       "  <thead>\n",
       "    <tr style=\"text-align: right;\">\n",
       "      <th></th>\n",
       "      <th>Store</th>\n",
       "      <th>Date</th>\n",
       "      <th>Weekly_Sales</th>\n",
       "      <th>Holiday_Flag</th>\n",
       "      <th>Temperature</th>\n",
       "      <th>Fuel_Price</th>\n",
       "      <th>CPI</th>\n",
       "      <th>Unemployment</th>\n",
       "    </tr>\n",
       "  </thead>\n",
       "  <tbody>\n",
       "    <tr>\n",
       "      <th>0</th>\n",
       "      <td>1</td>\n",
       "      <td>2010-02-05</td>\n",
       "      <td>1643690.90</td>\n",
       "      <td>0</td>\n",
       "      <td>42.31</td>\n",
       "      <td>2572</td>\n",
       "      <td>2.110964e+09</td>\n",
       "      <td>8106</td>\n",
       "    </tr>\n",
       "    <tr>\n",
       "      <th>1</th>\n",
       "      <td>1</td>\n",
       "      <td>2010-02-12</td>\n",
       "      <td>1641957.44</td>\n",
       "      <td>1</td>\n",
       "      <td>38.51</td>\n",
       "      <td>2548</td>\n",
       "      <td>2.112422e+09</td>\n",
       "      <td>8106</td>\n",
       "    </tr>\n",
       "    <tr>\n",
       "      <th>2</th>\n",
       "      <td>1</td>\n",
       "      <td>2010-02-19</td>\n",
       "      <td>1611968.17</td>\n",
       "      <td>0</td>\n",
       "      <td>39.93</td>\n",
       "      <td>2514</td>\n",
       "      <td>2.112891e+09</td>\n",
       "      <td>8106</td>\n",
       "    </tr>\n",
       "    <tr>\n",
       "      <th>3</th>\n",
       "      <td>1</td>\n",
       "      <td>2010-02-26</td>\n",
       "      <td>1409727.59</td>\n",
       "      <td>0</td>\n",
       "      <td>46.63</td>\n",
       "      <td>2561</td>\n",
       "      <td>2.113196e+09</td>\n",
       "      <td>8106</td>\n",
       "    </tr>\n",
       "    <tr>\n",
       "      <th>4</th>\n",
       "      <td>1</td>\n",
       "      <td>2010-03-05</td>\n",
       "      <td>1554806.68</td>\n",
       "      <td>0</td>\n",
       "      <td>46.5</td>\n",
       "      <td>2625</td>\n",
       "      <td>2.113501e+09</td>\n",
       "      <td>8106</td>\n",
       "    </tr>\n",
       "  </tbody>\n",
       "</table>\n",
       "</div>"
      ],
      "text/plain": [
       "   Store       Date  Weekly_Sales  Holiday_Flag Temperature Fuel_Price  \\\n",
       "0      1 2010-02-05    1643690.90             0       42.31       2572   \n",
       "1      1 2010-02-12    1641957.44             1       38.51       2548   \n",
       "2      1 2010-02-19    1611968.17             0       39.93       2514   \n",
       "3      1 2010-02-26    1409727.59             0       46.63       2561   \n",
       "4      1 2010-03-05    1554806.68             0        46.5       2625   \n",
       "\n",
       "            CPI Unemployment  \n",
       "0  2.110964e+09         8106  \n",
       "1  2.112422e+09         8106  \n",
       "2  2.112891e+09         8106  \n",
       "3  2.113196e+09         8106  \n",
       "4  2.113501e+09         8106  "
      ]
     },
     "execution_count": 9,
     "metadata": {},
     "output_type": "execute_result"
    }
   ],
   "source": [
    "# converting date object to datetime\n",
    "df['Date'] = pd.to_datetime(df.Date)\n",
    "df.head()"
   ]
  },
  {
   "cell_type": "code",
   "execution_count": 10,
   "id": "97698c27",
   "metadata": {},
   "outputs": [
    {
     "data": {
      "text/html": [
       "<div>\n",
       "<style scoped>\n",
       "    .dataframe tbody tr th:only-of-type {\n",
       "        vertical-align: middle;\n",
       "    }\n",
       "\n",
       "    .dataframe tbody tr th {\n",
       "        vertical-align: top;\n",
       "    }\n",
       "\n",
       "    .dataframe thead th {\n",
       "        text-align: right;\n",
       "    }\n",
       "</style>\n",
       "<table border=\"1\" class=\"dataframe\">\n",
       "  <thead>\n",
       "    <tr style=\"text-align: right;\">\n",
       "      <th></th>\n",
       "      <th>Store</th>\n",
       "      <th>Weekly_Sales</th>\n",
       "      <th>Holiday_Flag</th>\n",
       "      <th>Temperature</th>\n",
       "      <th>Fuel_Price</th>\n",
       "      <th>CPI</th>\n",
       "      <th>Unemployment</th>\n",
       "      <th>weekday</th>\n",
       "      <th>month</th>\n",
       "      <th>year</th>\n",
       "    </tr>\n",
       "  </thead>\n",
       "  <tbody>\n",
       "    <tr>\n",
       "      <th>0</th>\n",
       "      <td>1</td>\n",
       "      <td>1643690.90</td>\n",
       "      <td>0</td>\n",
       "      <td>42.31</td>\n",
       "      <td>2572</td>\n",
       "      <td>2.110964e+09</td>\n",
       "      <td>8106</td>\n",
       "      <td>4</td>\n",
       "      <td>2</td>\n",
       "      <td>2010</td>\n",
       "    </tr>\n",
       "    <tr>\n",
       "      <th>1</th>\n",
       "      <td>1</td>\n",
       "      <td>1641957.44</td>\n",
       "      <td>1</td>\n",
       "      <td>38.51</td>\n",
       "      <td>2548</td>\n",
       "      <td>2.112422e+09</td>\n",
       "      <td>8106</td>\n",
       "      <td>4</td>\n",
       "      <td>2</td>\n",
       "      <td>2010</td>\n",
       "    </tr>\n",
       "    <tr>\n",
       "      <th>2</th>\n",
       "      <td>1</td>\n",
       "      <td>1611968.17</td>\n",
       "      <td>0</td>\n",
       "      <td>39.93</td>\n",
       "      <td>2514</td>\n",
       "      <td>2.112891e+09</td>\n",
       "      <td>8106</td>\n",
       "      <td>4</td>\n",
       "      <td>2</td>\n",
       "      <td>2010</td>\n",
       "    </tr>\n",
       "    <tr>\n",
       "      <th>3</th>\n",
       "      <td>1</td>\n",
       "      <td>1409727.59</td>\n",
       "      <td>0</td>\n",
       "      <td>46.63</td>\n",
       "      <td>2561</td>\n",
       "      <td>2.113196e+09</td>\n",
       "      <td>8106</td>\n",
       "      <td>4</td>\n",
       "      <td>2</td>\n",
       "      <td>2010</td>\n",
       "    </tr>\n",
       "    <tr>\n",
       "      <th>4</th>\n",
       "      <td>1</td>\n",
       "      <td>1554806.68</td>\n",
       "      <td>0</td>\n",
       "      <td>46.5</td>\n",
       "      <td>2625</td>\n",
       "      <td>2.113501e+09</td>\n",
       "      <td>8106</td>\n",
       "      <td>4</td>\n",
       "      <td>3</td>\n",
       "      <td>2010</td>\n",
       "    </tr>\n",
       "  </tbody>\n",
       "</table>\n",
       "</div>"
      ],
      "text/plain": [
       "   Store  Weekly_Sales  Holiday_Flag Temperature Fuel_Price           CPI  \\\n",
       "0      1    1643690.90             0       42.31       2572  2.110964e+09   \n",
       "1      1    1641957.44             1       38.51       2548  2.112422e+09   \n",
       "2      1    1611968.17             0       39.93       2514  2.112891e+09   \n",
       "3      1    1409727.59             0       46.63       2561  2.113196e+09   \n",
       "4      1    1554806.68             0        46.5       2625  2.113501e+09   \n",
       "\n",
       "  Unemployment  weekday  month  year  \n",
       "0         8106        4      2  2010  \n",
       "1         8106        4      2  2010  \n",
       "2         8106        4      2  2010  \n",
       "3         8106        4      2  2010  \n",
       "4         8106        4      3  2010  "
      ]
     },
     "execution_count": 10,
     "metadata": {},
     "output_type": "execute_result"
    }
   ],
   "source": [
    "# Reframing the columns by breaking the date into weeks, month and year for analysis\n",
    "\n",
    "df['weekday'] = df.Date.dt.weekday\n",
    "df['month'] = df.Date.dt.month\n",
    "df['year'] = df.Date.dt.year\n",
    "\n",
    "df.drop(['Date'], axis=1, inplace=True)#,'month'\n",
    "\n",
    "target = 'Weekly_Sales'\n",
    "features = [i for i in df.columns if i not in [target]]\n",
    "original_df = df.copy(deep=True)\n",
    "\n",
    "df.head()"
   ]
  },
  {
   "cell_type": "code",
   "execution_count": 11,
   "id": "739dd683",
   "metadata": {},
   "outputs": [
    {
     "name": "stdout",
     "output_type": "stream",
     "text": [
      "<class 'pandas.core.frame.DataFrame'>\n",
      "RangeIndex: 6435 entries, 0 to 6434\n",
      "Data columns (total 10 columns):\n",
      " #   Column        Non-Null Count  Dtype  \n",
      "---  ------        --------------  -----  \n",
      " 0   Store         6435 non-null   int64  \n",
      " 1   Weekly_Sales  6435 non-null   float64\n",
      " 2   Holiday_Flag  6435 non-null   int64  \n",
      " 3   Temperature   6435 non-null   object \n",
      " 4   Fuel_Price    6435 non-null   object \n",
      " 5   CPI           6435 non-null   float64\n",
      " 6   Unemployment  6435 non-null   object \n",
      " 7   weekday       6435 non-null   int64  \n",
      " 8   month         6435 non-null   int64  \n",
      " 9   year          6435 non-null   int64  \n",
      "dtypes: float64(2), int64(5), object(3)\n",
      "memory usage: 502.9+ KB\n"
     ]
    }
   ],
   "source": [
    "# Checking for data types\n",
    "df.info()"
   ]
  },
  {
   "cell_type": "code",
   "execution_count": 12,
   "id": "846c8cb0",
   "metadata": {},
   "outputs": [
    {
     "data": {
      "text/plain": [
       "Store             45\n",
       "Weekly_Sales    6435\n",
       "Holiday_Flag       2\n",
       "Temperature     3518\n",
       "Fuel_Price       890\n",
       "CPI             2145\n",
       "Unemployment     349\n",
       "weekday            1\n",
       "month             12\n",
       "year               3\n",
       "dtype: int64"
      ]
     },
     "execution_count": 12,
     "metadata": {},
     "output_type": "execute_result"
    }
   ],
   "source": [
    "# checking for unique values\n",
    "df.nunique()"
   ]
  },
  {
   "cell_type": "code",
   "execution_count": 13,
   "id": "2656740e",
   "metadata": {},
   "outputs": [
    {
     "data": {
      "text/plain": [
       "Store           0\n",
       "Weekly_Sales    0\n",
       "Holiday_Flag    0\n",
       "Temperature     0\n",
       "Fuel_Price      0\n",
       "CPI             0\n",
       "Unemployment    0\n",
       "weekday         0\n",
       "month           0\n",
       "year            0\n",
       "dtype: int64"
      ]
     },
     "execution_count": 13,
     "metadata": {},
     "output_type": "execute_result"
    }
   ],
   "source": [
    "# Checking for missing values in each column\n",
    "df.isnull().sum()"
   ]
  },
  {
   "cell_type": "markdown",
   "id": "6176bbba",
   "metadata": {},
   "source": [
    "##### Business Analytics and Visualization"
   ]
  },
  {
   "cell_type": "code",
   "execution_count": 14,
   "id": "38c0a667",
   "metadata": {},
   "outputs": [
    {
     "data": {
      "text/plain": [
       "6737218987.11"
      ]
     },
     "execution_count": 14,
     "metadata": {},
     "output_type": "execute_result"
    }
   ],
   "source": [
    "# Finding the total sales\n",
    "df.Weekly_Sales.sum()"
   ]
  },
  {
   "cell_type": "code",
   "execution_count": 15,
   "id": "db73983d",
   "metadata": {},
   "outputs": [
    {
     "data": {
      "text/plain": [
       "Store\n",
       "20    3.013978e+08\n",
       "4     2.995440e+08\n",
       "14    2.889999e+08\n",
       "13    2.865177e+08\n",
       "2     2.753824e+08\n",
       "Name: Weekly_Sales, dtype: float64"
      ]
     },
     "execution_count": 15,
     "metadata": {},
     "output_type": "execute_result"
    }
   ],
   "source": [
    "# The stores with the highest weekly sales\n",
    "df.groupby(['Store'])['Weekly_Sales'].sum().sort_values(ascending=False).head(5)"
   ]
  },
  {
   "cell_type": "code",
   "execution_count": 16,
   "id": "533042a7",
   "metadata": {},
   "outputs": [
    {
     "data": {
      "text/plain": [
       "<AxesSubplot:xlabel='Store'>"
      ]
     },
     "execution_count": 16,
     "metadata": {},
     "output_type": "execute_result"
    },
    {
     "data": {
      "image/png": "[encoded data removed]",
      "text/plain": [
       "<Figure size 432x288 with 1 Axes>"
      ]
     },
     "metadata": {
      "needs_background": "light"
     },
     "output_type": "display_data"
    }
   ],
   "source": [
    "# The stores with the highest weekly sales visualization\n",
    "df.groupby(['Store'])['Weekly_Sales'].sum().sort_values(ascending=False).head(5).plot(kind='bar')"
   ]
  },
  {
   "cell_type": "code",
   "execution_count": 17,
   "id": "02512cee",
   "metadata": {},
   "outputs": [
    {
     "data": {
      "text/plain": [
       "Store\n",
       "38    55159626.42\n",
       "36    53412214.97\n",
       "5     45475688.90\n",
       "44    43293087.84\n",
       "33    37160221.96\n",
       "Name: Weekly_Sales, dtype: float64"
      ]
     },
     "execution_count": 17,
     "metadata": {},
     "output_type": "execute_result"
    }
   ],
   "source": [
    "# The stores with the lowest weekly sales\n",
    "df.groupby(['Store'])['Weekly_Sales'].sum().sort_values(ascending=False).tail(5)"
   ]
  },
  {
   "cell_type": "code",
   "execution_count": 18,
   "id": "b87acea0",
   "metadata": {},
   "outputs": [
    {
     "data": {
      "text/plain": [
       "<AxesSubplot:xlabel='Store'>"
      ]
     },
     "execution_count": 18,
     "metadata": {},
     "output_type": "execute_result"
    },
    {
     "data": {
      "image/png": "[encoded data removed]",
      "text/plain": [
       "<Figure size 432x288 with 1 Axes>"
      ]
     },
     "metadata": {
      "needs_background": "light"
     },
     "output_type": "display_data"
    }
   ],
   "source": [
    "# The stores with the lowest sales\n",
    "df.groupby(['Store'])['Weekly_Sales'].sum().sort_values(ascending=False).tail(5).plot(kind='bar')"
   ]
  },
  {
   "cell_type": "code",
   "execution_count": 19,
   "id": "b07e1829",
   "metadata": {},
   "outputs": [
    {
     "data": {
      "text/plain": [
       "<AxesSubplot:xlabel='year'>"
      ]
     },
     "execution_count": 19,
     "metadata": {},
     "output_type": "execute_result"
    },
    {
     "data": {
      "image/png": "[encoded data removed]",
      "text/plain": [
       "<Figure size 432x288 with 1 Axes>"
      ]
     },
     "metadata": {
      "needs_background": "light"
     },
     "output_type": "display_data"
    }
   ],
   "source": [
    "# The year with the highest sales\n",
    "df.groupby(['year'])['Weekly_Sales'].sum().sort_values(ascending=False).head(5).plot(kind='bar')"
   ]
  },
  {
   "cell_type": "code",
   "execution_count": 20,
   "id": "e995747e",
   "metadata": {},
   "outputs": [
    {
     "data": {
      "text/plain": [
       "<AxesSubplot:xlabel='year'>"
      ]
     },
     "execution_count": 20,
     "metadata": {},
     "output_type": "execute_result"
    },
    {
     "data": {
      "image/png": "[encoded data removed]",
      "text/plain": [
       "<Figure size 432x288 with 1 Axes>"
      ]
     },
     "metadata": {
      "needs_background": "light"
     },
     "output_type": "display_data"
    }
   ],
   "source": [
    "# The year with the lowest sales\n",
    "df.groupby(['year'])['Weekly_Sales'].sum().sort_values(ascending=False).tail(5).plot(kind='bar')"
   ]
  },
  {
   "cell_type": "code",
   "execution_count": 21,
   "id": "3eeb5c7d",
   "metadata": {},
   "outputs": [
    {
     "data": {
      "text/html": [
       "<div>\n",
       "<style scoped>\n",
       "    .dataframe tbody tr th:only-of-type {\n",
       "        vertical-align: middle;\n",
       "    }\n",
       "\n",
       "    .dataframe tbody tr th {\n",
       "        vertical-align: top;\n",
       "    }\n",
       "\n",
       "    .dataframe thead th {\n",
       "        text-align: right;\n",
       "    }\n",
       "</style>\n",
       "<table border=\"1\" class=\"dataframe\">\n",
       "  <thead>\n",
       "    <tr style=\"text-align: right;\">\n",
       "      <th></th>\n",
       "      <th>count</th>\n",
       "      <th>mean</th>\n",
       "      <th>std</th>\n",
       "      <th>min</th>\n",
       "      <th>25%</th>\n",
       "      <th>50%</th>\n",
       "      <th>75%</th>\n",
       "      <th>max</th>\n",
       "    </tr>\n",
       "  </thead>\n",
       "  <tbody>\n",
       "    <tr>\n",
       "      <th>Store</th>\n",
       "      <td>6435.0</td>\n",
       "      <td>2.300000e+01</td>\n",
       "      <td>1.298818e+01</td>\n",
       "      <td>1.00</td>\n",
       "      <td>1.200000e+01</td>\n",
       "      <td>2.300000e+01</td>\n",
       "      <td>3.400000e+01</td>\n",
       "      <td>4.500000e+01</td>\n",
       "    </tr>\n",
       "    <tr>\n",
       "      <th>Weekly_Sales</th>\n",
       "      <td>6435.0</td>\n",
       "      <td>1.046965e+06</td>\n",
       "      <td>5.643666e+05</td>\n",
       "      <td>209986.25</td>\n",
       "      <td>5.533501e+05</td>\n",
       "      <td>9.607460e+05</td>\n",
       "      <td>1.420159e+06</td>\n",
       "      <td>3.818686e+06</td>\n",
       "    </tr>\n",
       "    <tr>\n",
       "      <th>Holiday_Flag</th>\n",
       "      <td>6435.0</td>\n",
       "      <td>6.993007e-02</td>\n",
       "      <td>2.550489e-01</td>\n",
       "      <td>0.00</td>\n",
       "      <td>0.000000e+00</td>\n",
       "      <td>0.000000e+00</td>\n",
       "      <td>0.000000e+00</td>\n",
       "      <td>1.000000e+00</td>\n",
       "    </tr>\n",
       "    <tr>\n",
       "      <th>CPI</th>\n",
       "      <td>6435.0</td>\n",
       "      <td>1.485812e+09</td>\n",
       "      <td>7.065671e+08</td>\n",
       "      <td>128.13</td>\n",
       "      <td>1.291508e+09</td>\n",
       "      <td>1.382815e+09</td>\n",
       "      <td>2.115206e+09</td>\n",
       "      <td>2.272328e+09</td>\n",
       "    </tr>\n",
       "    <tr>\n",
       "      <th>weekday</th>\n",
       "      <td>6435.0</td>\n",
       "      <td>4.000000e+00</td>\n",
       "      <td>0.000000e+00</td>\n",
       "      <td>4.00</td>\n",
       "      <td>4.000000e+00</td>\n",
       "      <td>4.000000e+00</td>\n",
       "      <td>4.000000e+00</td>\n",
       "      <td>4.000000e+00</td>\n",
       "    </tr>\n",
       "    <tr>\n",
       "      <th>month</th>\n",
       "      <td>6435.0</td>\n",
       "      <td>6.447552e+00</td>\n",
       "      <td>3.238308e+00</td>\n",
       "      <td>1.00</td>\n",
       "      <td>4.000000e+00</td>\n",
       "      <td>6.000000e+00</td>\n",
       "      <td>9.000000e+00</td>\n",
       "      <td>1.200000e+01</td>\n",
       "    </tr>\n",
       "    <tr>\n",
       "      <th>year</th>\n",
       "      <td>6435.0</td>\n",
       "      <td>2.010965e+03</td>\n",
       "      <td>7.970193e-01</td>\n",
       "      <td>2010.00</td>\n",
       "      <td>2.010000e+03</td>\n",
       "      <td>2.011000e+03</td>\n",
       "      <td>2.012000e+03</td>\n",
       "      <td>2.012000e+03</td>\n",
       "    </tr>\n",
       "  </tbody>\n",
       "</table>\n",
       "</div>"
      ],
      "text/plain": [
       "               count          mean           std        min           25%  \\\n",
       "Store         6435.0  2.300000e+01  1.298818e+01       1.00  1.200000e+01   \n",
       "Weekly_Sales  6435.0  1.046965e+06  5.643666e+05  209986.25  5.533501e+05   \n",
       "Holiday_Flag  6435.0  6.993007e-02  2.550489e-01       0.00  0.000000e+00   \n",
       "CPI           6435.0  1.485812e+09  7.065671e+08     128.13  1.291508e+09   \n",
       "weekday       6435.0  4.000000e+00  0.000000e+00       4.00  4.000000e+00   \n",
       "month         6435.0  6.447552e+00  3.238308e+00       1.00  4.000000e+00   \n",
       "year          6435.0  2.010965e+03  7.970193e-01    2010.00  2.010000e+03   \n",
       "\n",
       "                       50%           75%           max  \n",
       "Store         2.300000e+01  3.400000e+01  4.500000e+01  \n",
       "Weekly_Sales  9.607460e+05  1.420159e+06  3.818686e+06  \n",
       "Holiday_Flag  0.000000e+00  0.000000e+00  1.000000e+00  \n",
       "CPI           1.382815e+09  2.115206e+09  2.272328e+09  \n",
       "weekday       4.000000e+00  4.000000e+00  4.000000e+00  \n",
       "month         6.000000e+00  9.000000e+00  1.200000e+01  \n",
       "year          2.011000e+03  2.012000e+03  2.012000e+03  "
      ]
     },
     "execution_count": 21,
     "metadata": {},
     "output_type": "execute_result"
    }
   ],
   "source": [
    "# Summary Statistics\n",
    "df.describe().T"
   ]
  },
  {
   "cell_type": "code",
   "execution_count": 22,
   "id": "aa5f3f4a",
   "metadata": {},
   "outputs": [],
   "source": [
    "#df['Temperature'] = df['Temperature'].astype(float)\n",
    "#df['Fuel_Price'] = df['Fuel_Price'].astype(float)\n",
    "#df['Unemployment'] = df['Unemployment'].astype(float)"
   ]
  },
  {
   "cell_type": "code",
   "execution_count": 23,
   "id": "52a03e80",
   "metadata": {},
   "outputs": [
    {
     "data": {
      "image/png": "[encoded data removed]",
      "text/plain": [
       "<Figure size 1440x1080 with 9 Axes>"
      ]
     },
     "metadata": {
      "needs_background": "light"
     },
     "output_type": "display_data"
    }
   ],
   "source": [
    "# Histogram for all columns\n",
    "import matplotlib.pyplot as plt\n",
    "df.hist(bins=50, figsize=(20,15))\n",
    "plt.show()"
   ]
  },
  {
   "cell_type": "code",
   "execution_count": 24,
   "id": "65c5060f",
   "metadata": {},
   "outputs": [
    {
     "data": {
      "image/png": "[encoded data removed]",
      "text/plain": [
       "<Figure size 576x288 with 1 Axes>"
      ]
     },
     "metadata": {
      "needs_background": "light"
     },
     "output_type": "display_data"
    }
   ],
   "source": [
    "#Let us analyze the distribution of the target variable\n",
    "\n",
    "plt.figure(figsize=[8,4])\n",
    "sns.distplot(df[target], color='g',hist_kws=dict(edgecolor=\"black\", linewidth=2), bins=30)\n",
    "plt.title('Target Variable Distribution')\n",
    "plt.show()"
   ]
  },
  {
   "cell_type": "code",
   "execution_count": 25,
   "id": "0f5503f3",
   "metadata": {},
   "outputs": [
    {
     "data": {
      "text/html": [
       "<div>\n",
       "<style scoped>\n",
       "    .dataframe tbody tr th:only-of-type {\n",
       "        vertical-align: middle;\n",
       "    }\n",
       "\n",
       "    .dataframe tbody tr th {\n",
       "        vertical-align: top;\n",
       "    }\n",
       "\n",
       "    .dataframe thead th {\n",
       "        text-align: right;\n",
       "    }\n",
       "</style>\n",
       "<table border=\"1\" class=\"dataframe\">\n",
       "  <thead>\n",
       "    <tr style=\"text-align: right;\">\n",
       "      <th></th>\n",
       "      <th>Store</th>\n",
       "      <th>Weekly_Sales</th>\n",
       "      <th>Holiday_Flag</th>\n",
       "      <th>CPI</th>\n",
       "      <th>weekday</th>\n",
       "      <th>month</th>\n",
       "      <th>year</th>\n",
       "    </tr>\n",
       "  </thead>\n",
       "  <tbody>\n",
       "    <tr>\n",
       "      <th>Store</th>\n",
       "      <td>1.000000e+00</td>\n",
       "      <td>-0.335332</td>\n",
       "      <td>-4.386841e-16</td>\n",
       "      <td>-0.121575</td>\n",
       "      <td>NaN</td>\n",
       "      <td>2.910676e-15</td>\n",
       "      <td>3.474318e-12</td>\n",
       "    </tr>\n",
       "    <tr>\n",
       "      <th>Weekly_Sales</th>\n",
       "      <td>-3.353320e-01</td>\n",
       "      <td>1.000000</td>\n",
       "      <td>3.689097e-02</td>\n",
       "      <td>-0.041168</td>\n",
       "      <td>NaN</td>\n",
       "      <td>7.614332e-02</td>\n",
       "      <td>-1.837754e-02</td>\n",
       "    </tr>\n",
       "    <tr>\n",
       "      <th>Holiday_Flag</th>\n",
       "      <td>-4.386841e-16</td>\n",
       "      <td>0.036891</td>\n",
       "      <td>1.000000e+00</td>\n",
       "      <td>-0.003424</td>\n",
       "      <td>NaN</td>\n",
       "      <td>1.229958e-01</td>\n",
       "      <td>-5.678257e-02</td>\n",
       "    </tr>\n",
       "    <tr>\n",
       "      <th>CPI</th>\n",
       "      <td>-1.215749e-01</td>\n",
       "      <td>-0.041168</td>\n",
       "      <td>-3.423642e-03</td>\n",
       "      <td>1.000000</td>\n",
       "      <td>NaN</td>\n",
       "      <td>-1.041957e-02</td>\n",
       "      <td>7.516653e-02</td>\n",
       "    </tr>\n",
       "    <tr>\n",
       "      <th>weekday</th>\n",
       "      <td>NaN</td>\n",
       "      <td>NaN</td>\n",
       "      <td>NaN</td>\n",
       "      <td>NaN</td>\n",
       "      <td>NaN</td>\n",
       "      <td>NaN</td>\n",
       "      <td>NaN</td>\n",
       "    </tr>\n",
       "    <tr>\n",
       "      <th>month</th>\n",
       "      <td>2.910676e-15</td>\n",
       "      <td>0.076143</td>\n",
       "      <td>1.229958e-01</td>\n",
       "      <td>-0.010420</td>\n",
       "      <td>NaN</td>\n",
       "      <td>1.000000e+00</td>\n",
       "      <td>-1.944645e-01</td>\n",
       "    </tr>\n",
       "    <tr>\n",
       "      <th>year</th>\n",
       "      <td>3.474318e-12</td>\n",
       "      <td>-0.018378</td>\n",
       "      <td>-5.678257e-02</td>\n",
       "      <td>0.075167</td>\n",
       "      <td>NaN</td>\n",
       "      <td>-1.944645e-01</td>\n",
       "      <td>1.000000e+00</td>\n",
       "    </tr>\n",
       "  </tbody>\n",
       "</table>\n",
       "</div>"
      ],
      "text/plain": [
       "                     Store  Weekly_Sales  Holiday_Flag       CPI  weekday  \\\n",
       "Store         1.000000e+00     -0.335332 -4.386841e-16 -0.121575      NaN   \n",
       "Weekly_Sales -3.353320e-01      1.000000  3.689097e-02 -0.041168      NaN   \n",
       "Holiday_Flag -4.386841e-16      0.036891  1.000000e+00 -0.003424      NaN   \n",
       "CPI          -1.215749e-01     -0.041168 -3.423642e-03  1.000000      NaN   \n",
       "weekday                NaN           NaN           NaN       NaN      NaN   \n",
       "month         2.910676e-15      0.076143  1.229958e-01 -0.010420      NaN   \n",
       "year          3.474318e-12     -0.018378 -5.678257e-02  0.075167      NaN   \n",
       "\n",
       "                     month          year  \n",
       "Store         2.910676e-15  3.474318e-12  \n",
       "Weekly_Sales  7.614332e-02 -1.837754e-02  \n",
       "Holiday_Flag  1.229958e-01 -5.678257e-02  \n",
       "CPI          -1.041957e-02  7.516653e-02  \n",
       "weekday                NaN           NaN  \n",
       "month         1.000000e+00 -1.944645e-01  \n",
       "year         -1.944645e-01  1.000000e+00  "
      ]
     },
     "execution_count": 25,
     "metadata": {},
     "output_type": "execute_result"
    }
   ],
   "source": [
    "# Correlation Analysis\n",
    "df.corr()"
   ]
  },
  {
   "cell_type": "code",
   "execution_count": 26,
   "id": "3b19d39c",
   "metadata": {},
   "outputs": [
    {
     "data": {
      "text/html": [
       "<div>\n",
       "<style scoped>\n",
       "    .dataframe tbody tr th:only-of-type {\n",
       "        vertical-align: middle;\n",
       "    }\n",
       "\n",
       "    .dataframe tbody tr th {\n",
       "        vertical-align: top;\n",
       "    }\n",
       "\n",
       "    .dataframe thead th {\n",
       "        text-align: right;\n",
       "    }\n",
       "</style>\n",
       "<table border=\"1\" class=\"dataframe\">\n",
       "  <thead>\n",
       "    <tr style=\"text-align: right;\">\n",
       "      <th></th>\n",
       "      <th>Weekly_Sales</th>\n",
       "    </tr>\n",
       "  </thead>\n",
       "  <tbody>\n",
       "    <tr>\n",
       "      <th>month</th>\n",
       "      <td>0.076143</td>\n",
       "    </tr>\n",
       "    <tr>\n",
       "      <th>Holiday_Flag</th>\n",
       "      <td>0.036891</td>\n",
       "    </tr>\n",
       "    <tr>\n",
       "      <th>year</th>\n",
       "      <td>-0.018378</td>\n",
       "    </tr>\n",
       "    <tr>\n",
       "      <th>CPI</th>\n",
       "      <td>-0.041168</td>\n",
       "    </tr>\n",
       "    <tr>\n",
       "      <th>Store</th>\n",
       "      <td>-0.335332</td>\n",
       "    </tr>\n",
       "    <tr>\n",
       "      <th>weekday</th>\n",
       "      <td>NaN</td>\n",
       "    </tr>\n",
       "  </tbody>\n",
       "</table>\n",
       "</div>"
      ],
      "text/plain": [
       "              Weekly_Sales\n",
       "month             0.076143\n",
       "Holiday_Flag      0.036891\n",
       "year             -0.018378\n",
       "CPI              -0.041168\n",
       "Store            -0.335332\n",
       "weekday                NaN"
      ]
     },
     "execution_count": 26,
     "metadata": {},
     "output_type": "execute_result"
    }
   ],
   "source": [
    "# Finding the the predictor with the highest relatioship with sales\n",
    "corr = pd.DataFrame(df.corr()['Weekly_Sales'].drop('Weekly_Sales'))\n",
    "corr.sort_values(['Weekly_Sales'], ascending = False)"
   ]
  },
  {
   "cell_type": "code",
   "execution_count": 27,
   "id": "b3a2320f",
   "metadata": {},
   "outputs": [
    {
     "data": {
      "text/plain": [
       "<AxesSubplot:>"
      ]
     },
     "execution_count": 27,
     "metadata": {},
     "output_type": "execute_result"
    },
    {
     "data": {
      "image/png": "[encoded data removed]",
      "text/plain": [
       "<Figure size 864x864 with 2 Axes>"
      ]
     },
     "metadata": {
      "needs_background": "light"
     },
     "output_type": "display_data"
    }
   ],
   "source": [
    "# correlation heatmap\n",
    "plt.figure(figsize=(12,12))\n",
    "sns.heatmap(df.corr(), annot=True)"
   ]
  },
  {
   "cell_type": "code",
   "execution_count": 28,
   "id": "01816af6",
   "metadata": {},
   "outputs": [
    {
     "data": {
      "text/plain": [
       "<AxesSubplot:xlabel='Store', ylabel='Weekly_Sales'>"
      ]
     },
     "execution_count": 28,
     "metadata": {},
     "output_type": "execute_result"
    },
    {
     "data": {
      "image/png": "[encoded data removed]",
      "text/plain": [
       "<Figure size 432x288 with 1 Axes>"
      ]
     },
     "metadata": {
      "needs_background": "light"
     },
     "output_type": "display_data"
    }
   ],
   "source": [
    "# Regression Analysis between sales and store\n",
    "sns.regplot('Store', 'Weekly_Sales', df)"
   ]
  },
  {
   "cell_type": "code",
   "execution_count": 29,
   "id": "f8ea6e54",
   "metadata": {},
   "outputs": [
    {
     "data": {
      "text/plain": [
       "<AxesSubplot:xlabel='Holiday_Flag', ylabel='Weekly_Sales'>"
      ]
     },
     "execution_count": 29,
     "metadata": {},
     "output_type": "execute_result"
    },
    {
     "data": {
      "image/png": "[encoded data removed]",
      "text/plain": [
       "<Figure size 432x288 with 1 Axes>"
      ]
     },
     "metadata": {
      "needs_background": "light"
     },
     "output_type": "display_data"
    }
   ],
   "source": [
    "# Regression Analysis between sales and Holiday_Flag\n",
    "sns.regplot('Holiday_Flag', 'Weekly_Sales', df)"
   ]
  },
  {
   "cell_type": "code",
   "execution_count": 30,
   "id": "d7ef18bf",
   "metadata": {},
   "outputs": [
    {
     "data": {
      "text/plain": [
       "<AxesSubplot:xlabel='CPI', ylabel='Weekly_Sales'>"
      ]
     },
     "execution_count": 30,
     "metadata": {},
     "output_type": "execute_result"
    },
    {
     "data": {
      "image/png": "[encoded data removed]",
      "text/plain": [
       "<Figure size 432x288 with 1 Axes>"
      ]
     },
     "metadata": {
      "needs_background": "light"
     },
     "output_type": "display_data"
    }
   ],
   "source": [
    "# Regression Analysis between sales and CPI\n",
    "sns.regplot('CPI', 'Weekly_Sales', df)"
   ]
  },
  {
   "cell_type": "code",
   "execution_count": 31,
   "id": "db69e953",
   "metadata": {},
   "outputs": [
    {
     "data": {
      "text/plain": [
       "<AxesSubplot:xlabel='Holiday_Flag', ylabel='Weekly_Sales'>"
      ]
     },
     "execution_count": 31,
     "metadata": {},
     "output_type": "execute_result"
    },
    {
     "data": {
      "image/png": "[encoded data removed]",
      "text/plain": [
       "<Figure size 432x288 with 1 Axes>"
      ]
     },
     "metadata": {
      "needs_background": "light"
     },
     "output_type": "display_data"
    }
   ],
   "source": [
    "# data visualisation for \n",
    "sns.violinplot(x=\"Holiday_Flag\", y=\"Weekly_Sales\", data=df)"
   ]
  },
  {
   "cell_type": "markdown",
   "id": "eb678e99",
   "metadata": {},
   "source": [
    "##### Statistical Inference for variable or feature selection"
   ]
  },
  {
   "cell_type": "code",
   "execution_count": 32,
   "id": "10931eea",
   "metadata": {},
   "outputs": [
    {
     "data": {
      "text/html": [
       "<div>\n",
       "<style scoped>\n",
       "    .dataframe tbody tr th:only-of-type {\n",
       "        vertical-align: middle;\n",
       "    }\n",
       "\n",
       "    .dataframe tbody tr th {\n",
       "        vertical-align: top;\n",
       "    }\n",
       "\n",
       "    .dataframe thead th {\n",
       "        text-align: right;\n",
       "    }\n",
       "</style>\n",
       "<table border=\"1\" class=\"dataframe\">\n",
       "  <thead>\n",
       "    <tr style=\"text-align: right;\">\n",
       "      <th></th>\n",
       "      <th>Weekly_Sales</th>\n",
       "      <th>Temperature</th>\n",
       "      <th>Fuel_Price</th>\n",
       "      <th>CPI</th>\n",
       "      <th>Unemployment</th>\n",
       "      <th>Store_2</th>\n",
       "      <th>Store_3</th>\n",
       "      <th>Store_4</th>\n",
       "      <th>Store_5</th>\n",
       "      <th>Store_6</th>\n",
       "      <th>...</th>\n",
       "      <th>month_5</th>\n",
       "      <th>month_6</th>\n",
       "      <th>month_7</th>\n",
       "      <th>month_8</th>\n",
       "      <th>month_9</th>\n",
       "      <th>month_10</th>\n",
       "      <th>month_11</th>\n",
       "      <th>month_12</th>\n",
       "      <th>year_2011</th>\n",
       "      <th>year_2012</th>\n",
       "    </tr>\n",
       "  </thead>\n",
       "  <tbody>\n",
       "    <tr>\n",
       "      <th>0</th>\n",
       "      <td>1643690.90</td>\n",
       "      <td>42.31</td>\n",
       "      <td>2572</td>\n",
       "      <td>2.110964e+09</td>\n",
       "      <td>8106</td>\n",
       "      <td>0</td>\n",
       "      <td>0</td>\n",
       "      <td>0</td>\n",
       "      <td>0</td>\n",
       "      <td>0</td>\n",
       "      <td>...</td>\n",
       "      <td>0</td>\n",
       "      <td>0</td>\n",
       "      <td>0</td>\n",
       "      <td>0</td>\n",
       "      <td>0</td>\n",
       "      <td>0</td>\n",
       "      <td>0</td>\n",
       "      <td>0</td>\n",
       "      <td>0</td>\n",
       "      <td>0</td>\n",
       "    </tr>\n",
       "    <tr>\n",
       "      <th>1</th>\n",
       "      <td>1641957.44</td>\n",
       "      <td>38.51</td>\n",
       "      <td>2548</td>\n",
       "      <td>2.112422e+09</td>\n",
       "      <td>8106</td>\n",
       "      <td>0</td>\n",
       "      <td>0</td>\n",
       "      <td>0</td>\n",
       "      <td>0</td>\n",
       "      <td>0</td>\n",
       "      <td>...</td>\n",
       "      <td>0</td>\n",
       "      <td>0</td>\n",
       "      <td>0</td>\n",
       "      <td>0</td>\n",
       "      <td>0</td>\n",
       "      <td>0</td>\n",
       "      <td>0</td>\n",
       "      <td>0</td>\n",
       "      <td>0</td>\n",
       "      <td>0</td>\n",
       "    </tr>\n",
       "  </tbody>\n",
       "</table>\n",
       "<p>2 rows × 63 columns</p>\n",
       "</div>"
      ],
      "text/plain": [
       "   Weekly_Sales Temperature Fuel_Price           CPI Unemployment  Store_2  \\\n",
       "0    1643690.90       42.31       2572  2.110964e+09         8106        0   \n",
       "1    1641957.44       38.51       2548  2.112422e+09         8106        0   \n",
       "\n",
       "   Store_3  Store_4  Store_5  Store_6  ...  month_5  month_6  month_7  \\\n",
       "0        0        0        0        0  ...        0        0        0   \n",
       "1        0        0        0        0  ...        0        0        0   \n",
       "\n",
       "   month_8  month_9  month_10  month_11  month_12  year_2011  year_2012  \n",
       "0        0        0         0         0         0          0          0  \n",
       "1        0        0         0         0         0          0          0  \n",
       "\n",
       "[2 rows x 63 columns]"
      ]
     },
     "execution_count": 32,
     "metadata": {},
     "output_type": "execute_result"
    }
   ],
   "source": [
    "# Categorical to Dummy Variables\n",
    "df =  pd.get_dummies(df, columns=[\"Store\", \"Holiday_Flag\", \"weekday\", \"month\", \"year\"],\n",
    "                         prefix=[\"Store\", \"Holiday_Flag\", \"weekday\", \"month\", \"year\"],\n",
    "                         drop_first=True)\n",
    "df.head(2)"
   ]
  },
  {
   "cell_type": "code",
   "execution_count": 33,
   "id": "837ee2b2",
   "metadata": {},
   "outputs": [],
   "source": [
    "# Convert columns to numeric types\n",
    "df['Temperature'] = pd.to_numeric(df['Temperature'], errors='coerce')\n",
    "df['Fuel_Price'] = pd.to_numeric(df['Fuel_Price'], errors='coerce')\n",
    "df['Unemployment'] = pd.to_numeric(df['Unemployment'], errors='coerce')"
   ]
  },
  {
   "cell_type": "code",
   "execution_count": 34,
   "id": "22a2d2d8",
   "metadata": {},
   "outputs": [],
   "source": [
    "# Replace missing values with the mean of each column\n",
    "df.fillna(df.mean(), inplace=True)\n",
    "\n",
    "# Replace infinite values with a finite value (e.g., 0)\n",
    "df.replace([np.inf, -np.inf], 0, inplace=True)"
   ]
  },
  {
   "cell_type": "code",
   "execution_count": 35,
   "id": "ca94008d",
   "metadata": {},
   "outputs": [
    {
     "data": {
      "text/plain": [
       "Weekly_Sales    0.000000e+00\n",
       "Temperature     2.470630e-08\n",
       "Fuel_Price      7.155346e-01\n",
       "CPI             9.559829e-04\n",
       "Unemployment    9.127018e-12\n",
       "                    ...     \n",
       "month_10        3.336595e-02\n",
       "month_11        5.170657e-04\n",
       "month_12        4.147550e-20\n",
       "year_2011       9.378679e-01\n",
       "year_2012       2.149766e-01\n",
       "Name: Weekly_Sales, Length: 63, dtype: float64"
      ]
     },
     "execution_count": 35,
     "metadata": {},
     "output_type": "execute_result"
    }
   ],
   "source": [
    "### c. checking for p-value (TESTING FOR STATISTICAL SIGNIFICANCE OF INDEPENDENT VARIABLES for variable selection)\n",
    "import scipy.stats as stats\n",
    "df_corr = pd.DataFrame() # Correlation matrix\n",
    "df_p = pd.DataFrame() # Matrix of p-values\n",
    "for x in df.columns:   # assuming df as your dataframe name\n",
    "   for y in df.columns:\n",
    "      corr = stats.pearsonr(df[x], df[y])\n",
    "      df_corr.loc[x,y] = corr[0]\n",
    "      df_p.loc[x,y] = corr[1]\n",
    "\n",
    "df_p['Weekly_Sales']"
   ]
  },
  {
   "cell_type": "markdown",
   "id": "2d875801",
   "metadata": {},
   "source": [
    "##### Model Building and Selection"
   ]
  },
  {
   "cell_type": "code",
   "execution_count": 36,
   "id": "29a9372a",
   "metadata": {},
   "outputs": [],
   "source": [
    "# Separating target variable and predictors\n",
    "y = df ['Weekly_Sales']\n",
    "x = df.drop(['Weekly_Sales'], axis =1)"
   ]
  },
  {
   "cell_type": "code",
   "execution_count": 37,
   "id": "c244207b",
   "metadata": {},
   "outputs": [
    {
     "data": {
      "text/plain": [
       "array([[-1.08032351, -1.6768291 ,  0.88484192,  0.11639643, -0.15075567,\n",
       "        -0.15075567, -0.15075567, -0.15075567, -0.15075567, -0.15075567,\n",
       "        -0.15075567, -0.15075567, -0.15075567, -0.15075567, -0.15075567,\n",
       "        -0.15075567, -0.15075567, -0.15075567, -0.15075567, -0.15075567,\n",
       "        -0.15075567, -0.15075567, -0.15075567, -0.15075567, -0.15075567,\n",
       "        -0.15075567, -0.15075567, -0.15075567, -0.15075567, -0.15075567,\n",
       "        -0.15075567, -0.15075567, -0.15075567, -0.15075567, -0.15075567,\n",
       "        -0.15075567, -0.15075567, -0.15075567, -0.15075567, -0.15075567,\n",
       "        -0.15075567, -0.15075567, -0.15075567, -0.15075567, -0.15075567,\n",
       "        -0.15075567, -0.15075567, -0.15075567, -0.27420425,  3.30403793,\n",
       "        -0.31622777, -0.32943456, -0.30265996, -0.31622777, -0.32943456,\n",
       "        -0.31622777, -0.31622777, -0.31622777, -0.24343225, -0.27420425,\n",
       "        -0.75592895, -0.65574385]])"
      ]
     },
     "execution_count": 37,
     "metadata": {},
     "output_type": "execute_result"
    }
   ],
   "source": [
    "# Normalization data to bring all values to common scale\n",
    "from sklearn import preprocessing\n",
    "X = preprocessing.StandardScaler().fit(x).transform(x)\n",
    "X[0:1]"
   ]
  },
  {
   "cell_type": "code",
   "execution_count": 38,
   "id": "919229a3",
   "metadata": {},
   "outputs": [],
   "source": [
    "# splitting data into training and test data at 80% and 20% respectively\n",
    "from sklearn.model_selection import train_test_split\n",
    "xm_train, xm_test, ym_train, ym_test = train_test_split(X, y, train_size = 0.8, random_state = 100)"
   ]
  },
  {
   "cell_type": "markdown",
   "id": "d3b4ddbe",
   "metadata": {},
   "source": [
    "###### Building model with multiple linear regression"
   ]
  },
  {
   "cell_type": "code",
   "execution_count": 39,
   "id": "c72908d9",
   "metadata": {},
   "outputs": [
    {
     "name": "stdout",
     "output_type": "stream",
     "text": [
      "Mean Square Error:  18493107679.295235\n",
      "Variance or r-squared:  0.9429018333238277\n"
     ]
    }
   ],
   "source": [
    "lin = lm.LinearRegression()\n",
    "lin.fit(xm_train, ym_train)\n",
    "y_pred = lin.predict(xm_test)\n",
    "print(\"Mean Square Error: \", mean_squared_error(ym_test, y_pred))\n",
    "print(\"Variance or r-squared: \", explained_variance_score(ym_test, y_pred))"
   ]
  },
  {
   "cell_type": "markdown",
   "id": "5f91238a",
   "metadata": {},
   "source": [
    "##### Building model with Random Forest Regressor"
   ]
  },
  {
   "cell_type": "code",
   "execution_count": 40,
   "id": "54c1f98d",
   "metadata": {},
   "outputs": [
    {
     "name": "stdout",
     "output_type": "stream",
     "text": [
      "Mean Square Error:  17536449249.215878\n",
      "Variance or r-squared:  0.9457754621459217\n"
     ]
    }
   ],
   "source": [
    "from sklearn.ensemble import RandomForestRegressor\n",
    "from sklearn.datasets import make_regression\n",
    "\n",
    "rfr = RandomForestRegressor(n_estimators=13, random_state=0)\n",
    "rfr.fit(xm_train, ym_train)\n",
    "y_predicted = rfr.predict(xm_test)\n",
    "print(\"Mean Square Error: \", mean_squared_error(ym_test, y_predicted))\n",
    "print(\"Variance or r-squared: \", explained_variance_score(ym_test, y_predicted))"
   ]
  },
  {
   "cell_type": "markdown",
   "id": "23738f7d",
   "metadata": {},
   "source": [
    "#### Building model with Decision Tree Regressor"
   ]
  },
  {
   "cell_type": "code",
   "execution_count": 43,
   "id": "ada7c1ce",
   "metadata": {},
   "outputs": [
    {
     "name": "stdout",
     "output_type": "stream",
     "text": [
      "Mean Square Error:  20811360827.70793\n",
      "Variance or r-squared:  0.9356848276001741\n"
     ]
    }
   ],
   "source": [
    "from sklearn import tree\n",
    "from sklearn.metrics import mean_squared_error, explained_variance_score\n",
    "\n",
    "dtr = tree.DecisionTreeRegressor()\n",
    "dtr.fit(xm_train, ym_train)\n",
    "ntree = dtr.predict(xm_test)\n",
    "print(\"Mean Square Error: \", mean_squared_error(ym_test, ntree))\n",
    "print(\"Variance or r-squared: \", explained_variance_score(ym_test, ntree))"
   ]
  },
  {
   "cell_type": "markdown",
   "id": "8b3134b6",
   "metadata": {},
   "source": [
    "#### Model Evaluation and Deployment"
   ]
  },
  {
   "cell_type": "code",
   "execution_count": 44,
   "id": "4534bc59",
   "metadata": {},
   "outputs": [
    {
     "name": "stdout",
     "output_type": "stream",
     "text": [
      "mean square error:  20210718731.51002\n",
      "variance or r-squared:  0.9365401199023865\n"
     ]
    }
   ],
   "source": [
    "# Linear Regression \n",
    "Dep_pred = lin.predict(X)\n",
    "# Evaluation\n",
    "print(\"mean square error: \", mean_squared_error(y, Dep_pred))\n",
    "print(\"variance or r-squared: \", explained_variance_score(y, Dep_pred))"
   ]
  },
  {
   "cell_type": "code",
   "execution_count": 45,
   "id": "768d1d0d",
   "metadata": {},
   "outputs": [
    {
     "data": {
      "text/plain": [
       "Text(0, 0.5, 'medv')"
      ]
     },
     "execution_count": 45,
     "metadata": {},
     "output_type": "execute_result"
    },
    {
     "data": {
      "image/png": "[encoded data removed]",
      "text/plain": [
       "<Figure size 432x288 with 1 Axes>"
      ]
     },
     "metadata": {
      "needs_background": "light"
     },
     "output_type": "display_data"
    }
   ],
   "source": [
    "# Actual vs Predicted\n",
    "c = [i for i in range(1, 6436, 1)]\n",
    "fig = plt.figure()\n",
    "plt.plot(c, y, color = \"blue\", linewidth = 2.5, linestyle = \"-\" )\n",
    "plt.plot(c, Dep_pred, color = \"red\", linewidth = 2.5, linestyle = \"-\" )\n",
    "fig.suptitle('Actual and Predicted', fontsize = 20)\n",
    "plt.xlabel('Index', fontsize = 18)\n",
    "plt.ylabel('medv', fontsize = 16)"
   ]
  },
  {
   "cell_type": "code",
   "execution_count": 46,
   "id": "edcacb1e",
   "metadata": {},
   "outputs": [
    {
     "name": "stdout",
     "output_type": "stream",
     "text": [
      "mean square error:  6303230426.866555\n",
      "variance or r-squared:  0.9802072416003019\n"
     ]
    }
   ],
   "source": [
    "# Random Forest Regressor\n",
    "Dep = rfr.predict(X)\n",
    "print(\"mean square error: \", mean_squared_error(y, Dep))\n",
    "print(\"variance or r-squared: \", explained_variance_score(y, Dep))"
   ]
  },
  {
   "cell_type": "code",
   "execution_count": 47,
   "id": "01755b3c",
   "metadata": {},
   "outputs": [
    {
     "data": {
      "text/plain": [
       "Text(0, 0.5, 'medv')"
      ]
     },
     "execution_count": 47,
     "metadata": {},
     "output_type": "execute_result"
    },
    {
     "data": {
      "image/png": "[encoded data removed]",
      "text/plain": [
       "<Figure size 432x288 with 1 Axes>"
      ]
     },
     "metadata": {
      "needs_background": "light"
     },
     "output_type": "display_data"
    }
   ],
   "source": [
    "# Actual vs Predicted\n",
    "c = [i for i in range(1, 6436, 1)]\n",
    "fig = plt.figure()\n",
    "plt.plot(c, y, color = \"blue\", linewidth = 2.5, linestyle = \"-\" )\n",
    "plt.plot(c, Dep, color = \"red\", linewidth = 2.5, linestyle = \"-\" )\n",
    "fig.suptitle('Actual and Predicted', fontsize = 20)\n",
    "plt.xlabel('Index', fontsize = 18)\n",
    "plt.ylabel('medv', fontsize = 16)"
   ]
  },
  {
   "cell_type": "code",
   "execution_count": 49,
   "id": "19947e7f",
   "metadata": {},
   "outputs": [
    {
     "data": {
      "text/html": [
       "<div>\n",
       "<style scoped>\n",
       "    .dataframe tbody tr th:only-of-type {\n",
       "        vertical-align: middle;\n",
       "    }\n",
       "\n",
       "    .dataframe tbody tr th {\n",
       "        vertical-align: top;\n",
       "    }\n",
       "\n",
       "    .dataframe thead th {\n",
       "        text-align: right;\n",
       "    }\n",
       "</style>\n",
       "<table border=\"1\" class=\"dataframe\">\n",
       "  <thead>\n",
       "    <tr style=\"text-align: right;\">\n",
       "      <th></th>\n",
       "      <th>importance</th>\n",
       "    </tr>\n",
       "  </thead>\n",
       "  <tbody>\n",
       "    <tr>\n",
       "      <th>Store_4</th>\n",
       "      <td>0.080307</td>\n",
       "    </tr>\n",
       "    <tr>\n",
       "      <th>Store_20</th>\n",
       "      <td>0.077246</td>\n",
       "    </tr>\n",
       "    <tr>\n",
       "      <th>Store_14</th>\n",
       "      <td>0.076794</td>\n",
       "    </tr>\n",
       "    <tr>\n",
       "      <th>Store_13</th>\n",
       "      <td>0.074697</td>\n",
       "    </tr>\n",
       "    <tr>\n",
       "      <th>Store_2</th>\n",
       "      <td>0.070168</td>\n",
       "    </tr>\n",
       "  </tbody>\n",
       "</table>\n",
       "</div>"
      ],
      "text/plain": [
       "          importance\n",
       "Store_4     0.080307\n",
       "Store_20    0.077246\n",
       "Store_14    0.076794\n",
       "Store_13    0.074697\n",
       "Store_2     0.070168"
      ]
     },
     "execution_count": 49,
     "metadata": {},
     "output_type": "execute_result"
    }
   ],
   "source": [
    "# Top five most influential variables\n",
    "feature_importances = pd.DataFrame(dtr.feature_importances_, index=x.columns, columns=['importance']).sort_values('importance', ascending=False).head()\n",
    "\n",
    "feature_importances"
   ]
  },
  {
   "cell_type": "markdown",
   "id": "cc627b57",
   "metadata": {},
   "source": [
    "###### Further evaluation using cross validation"
   ]
  },
  {
   "cell_type": "code",
   "execution_count": 49,
   "id": "73144274",
   "metadata": {},
   "outputs": [],
   "source": [
    "# Using cross validation to test the best model\n",
    "from sklearn.model_selection import cross_val_score\n",
    "scores = cross_val_score(rfr, X, y,\n",
    "                         scoring=\"neg_mean_squared_error\", cv=10)\n",
    "tree_rmse_scores = np.sqrt(-scores)"
   ]
  },
  {
   "cell_type": "code",
   "execution_count": 50,
   "id": "e5fd3195",
   "metadata": {},
   "outputs": [
    {
     "name": "stdout",
     "output_type": "stream",
     "text": [
      "Scores: [1022983.63981052  465873.94020242  568771.66990553  414838.80627378\n",
      "  646523.38087181  491622.70321902  567520.37977814  640965.07975221\n",
      "  540085.40586751  553364.78132487]\n",
      "Mean: 591254.9787005818\n",
      "Standard deviation: 159313.4680046263\n"
     ]
    }
   ],
   "source": [
    "def display_scores(scores):\n",
    "    print(\"Scores:\", scores)\n",
    "    print(\"Mean:\", scores.mean())\n",
    "    print(\"Standard deviation:\", scores.std())\n",
    "display_scores(tree_rmse_scores)"
   ]
  },
  {
   "cell_type": "markdown",
   "id": "d71e6f3a",
   "metadata": {},
   "source": [
    "##### Tuning our model before deployment"
   ]
  },
  {
   "cell_type": "code",
   "execution_count": 51,
   "id": "bee328bd",
   "metadata": {},
   "outputs": [
    {
     "name": "stdout",
     "output_type": "stream",
     "text": [
      "GridSearchCV(cv=5, estimator=RandomForestRegressor(),\n",
      "             param_grid=[{'max_features': [2, 4, 6, 8],\n",
      "                          'n_estimators': [3, 10, 30]},\n",
      "                         {'bootstrap': [False], 'max_features': [2, 3, 4],\n",
      "                          'n_estimators': [3, 10]}],\n",
      "             return_train_score=True, scoring='neg_mean_squared_error')\n"
     ]
    }
   ],
   "source": [
    "# Tuning our model\n",
    "from sklearn.model_selection import GridSearchCV\n",
    "\n",
    "param_grid = [\n",
    "    {'n_estimators': [3, 10, 30], 'max_features': [2, 4, 6, 8]},\n",
    "    {'bootstrap': [False], 'n_estimators': [3, 10], 'max_features': [2, 3, 4]},\n",
    "  ]\n",
    "\n",
    "forest_reg = RandomForestRegressor()\n",
    "\n",
    "grid_search = GridSearchCV(forest_reg, param_grid, cv=5,\n",
    "                           scoring='neg_mean_squared_error',\n",
    "                           return_train_score=True)\n",
    "\n",
    "grid_search.fit(X, y)\n",
    "print(grid_search)"
   ]
  },
  {
   "cell_type": "code",
   "execution_count": 52,
   "id": "af163f3f",
   "metadata": {},
   "outputs": [
    {
     "data": {
      "text/plain": [
       "{'max_features': 6, 'n_estimators': 30}"
      ]
     },
     "execution_count": 52,
     "metadata": {},
     "output_type": "execute_result"
    }
   ],
   "source": [
    "# obtaining the best parameters\n",
    "grid_search.best_params_"
   ]
  },
  {
   "cell_type": "code",
   "execution_count": 53,
   "id": "986c6cb5",
   "metadata": {},
   "outputs": [
    {
     "data": {
      "text/plain": [
       "RandomForestRegressor(max_features=6, n_estimators=30)"
      ]
     },
     "execution_count": 53,
     "metadata": {},
     "output_type": "execute_result"
    }
   ],
   "source": [
    "# obtaining the best estimators\n",
    "grid_search.best_estimator_"
   ]
  },
  {
   "cell_type": "code",
   "execution_count": 54,
   "id": "85052a59",
   "metadata": {},
   "outputs": [
    {
     "name": "stdout",
     "output_type": "stream",
     "text": [
      "698845.5981393111 {'max_features': 2, 'n_estimators': 3}\n",
      "654392.6814014538 {'max_features': 2, 'n_estimators': 10}\n",
      "636187.4016068892 {'max_features': 2, 'n_estimators': 30}\n",
      "676467.9014538403 {'max_features': 4, 'n_estimators': 3}\n",
      "641477.6799379607 {'max_features': 4, 'n_estimators': 10}\n",
      "630283.8001052317 {'max_features': 4, 'n_estimators': 30}\n",
      "666438.6093668051 {'max_features': 6, 'n_estimators': 3}\n",
      "626478.3079380571 {'max_features': 6, 'n_estimators': 10}\n",
      "607715.8792812905 {'max_features': 6, 'n_estimators': 30}\n",
      "642656.8134494207 {'max_features': 8, 'n_estimators': 3}\n",
      "609862.1155464306 {'max_features': 8, 'n_estimators': 10}\n",
      "608552.6452037573 {'max_features': 8, 'n_estimators': 30}\n",
      "680915.1800373765 {'bootstrap': False, 'max_features': 2, 'n_estimators': 3}\n",
      "659532.2617214441 {'bootstrap': False, 'max_features': 2, 'n_estimators': 10}\n",
      "682931.2806871571 {'bootstrap': False, 'max_features': 3, 'n_estimators': 3}\n",
      "642155.878190613 {'bootstrap': False, 'max_features': 3, 'n_estimators': 10}\n",
      "680829.9120556896 {'bootstrap': False, 'max_features': 4, 'n_estimators': 3}\n",
      "624885.8025437042 {'bootstrap': False, 'max_features': 4, 'n_estimators': 10}\n"
     ]
    }
   ],
   "source": [
    "# printing all MSE for each parameter combinations\n",
    "cvres = grid_search.cv_results_\n",
    "for mean_score, params in zip(cvres[\"mean_test_score\"], cvres[\"params\"]):\n",
    "     print(np.sqrt(-mean_score), params)"
   ]
  },
  {
   "cell_type": "code",
   "execution_count": null,
   "id": "0f0390d6",
   "metadata": {},
   "outputs": [],
   "source": []
  }
 ],
 "metadata": {
  "kernelspec": {
   "display_name": "Python 3 (ipykernel)",
   "language": "python",
   "name": "python3"
  },
  "language_info": {
   "codemirror_mode": {
    "name": "ipython",
    "version": 3
   },
   "file_extension": ".py",
   "mimetype": "text/x-python",
   "name": "python",
   "nbconvert_exporter": "python",
   "pygments_lexer": "ipython3",
   "version": "3.9.7"
  }
 },
 "nbformat": 4,
 "nbformat_minor": 5
}
