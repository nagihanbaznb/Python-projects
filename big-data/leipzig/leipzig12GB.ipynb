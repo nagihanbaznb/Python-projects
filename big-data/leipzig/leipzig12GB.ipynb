{
 "cells": [
  {
   "cell_type": "code",
   "execution_count": 1,
   "id": "2d111d11",
   "metadata": {},
   "outputs": [],
   "source": [
    "%config IPCompleter.greedy=True\n",
    "import findspark\n",
    "findspark.init(\"C:\\spark\")\n",
    "from pyspark import SparkConf\n",
    "from pyspark import SparkContext\n",
    "import re\n",
    "import socket"
   ]
  },
  {
   "cell_type": "code",
   "execution_count": 2,
   "id": "cb3dcafc",
   "metadata": {},
   "outputs": [],
   "source": [
    "import time\n",
    "start_time = time.time()"
   ]
  },
  {
   "cell_type": "code",
   "execution_count": 3,
   "id": "e9d961d6",
   "metadata": {},
   "outputs": [],
   "source": [
    "import socket\n",
    " \n",
    "# Function to display hostname and IP address\n",
    "def get_Host_name_IP():\n",
    "    try:\n",
    "        host_name = socket.gethostname()\n",
    "        host_ip = socket.gethostbyname(host_name)\n",
    "        print(\"Hostname :  \", host_name)\n",
    "        print(\"IP : \", host_ip)\n",
    "    except:\n",
    "        print(\"Unable to get Hostname and IP\")"
   ]
  },
  {
   "cell_type": "code",
   "execution_count": 4,
   "id": "6be593d9",
   "metadata": {},
   "outputs": [],
   "source": [
    "conf=SparkConf().setMaster(\"local[*]\").setAppName(\"171805024_181805052\")\n",
    "sc=SparkContext.getOrCreate(conf=conf)"
   ]
  },
  {
   "cell_type": "code",
   "execution_count": 5,
   "id": "66ab71b7",
   "metadata": {},
   "outputs": [
    {
     "data": {
      "text/html": [
       "\n",
       "        <div>\n",
       "            <p><b>SparkContext</b></p>\n",
       "\n",
       "            <p><a href=\"http://LAPTOP-UEQCSDT9:4041\">Spark UI</a></p>\n",
       "\n",
       "            <dl>\n",
       "              <dt>Version</dt>\n",
       "                <dd><code>v2.4.3</code></dd>\n",
       "              <dt>Master</dt>\n",
       "                <dd><code>local[*]</code></dd>\n",
       "              <dt>AppName</dt>\n",
       "                <dd><code>171805024_181805052</code></dd>\n",
       "            </dl>\n",
       "        </div>\n",
       "        "
      ],
      "text/plain": [
       "<SparkContext master=local[*] appName=171805024_181805052>"
      ]
     },
     "execution_count": 5,
     "metadata": {},
     "output_type": "execute_result"
    }
   ],
   "source": [
    "sc"
   ]
  },
  {
   "cell_type": "code",
   "execution_count": 6,
   "id": "befb2e14",
   "metadata": {},
   "outputs": [
    {
     "name": "stdout",
     "output_type": "stream",
     "text": [
      "Hostname :   LAPTOP-UEQCSDT9\n",
      "IP :  192.168.1.102\n"
     ]
    }
   ],
   "source": [
    "get_Host_name_IP()"
   ]
  },
  {
   "cell_type": "code",
   "execution_count": 7,
   "id": "6444ada7",
   "metadata": {},
   "outputs": [],
   "source": [
    "rdd=sc.textFile(\"12GB.txt\")"
   ]
  },
  {
   "cell_type": "code",
   "execution_count": 8,
   "id": "e75b54aa",
   "metadata": {},
   "outputs": [],
   "source": [
    "words = rdd.flatMap(lambda x: x.strip().split(\" \"))\\\n",
    "    .map(lambda x: x.lower())\\\n",
    "    .map(lambda letter: re.sub(r'[^A-Za-z]', '', letter))\\\n",
    "    .filter(lambda x: x != '')"
   ]
  },
  {
   "cell_type": "code",
   "execution_count": 9,
   "id": "361a4417",
   "metadata": {},
   "outputs": [
    {
     "data": {
      "text/plain": [
       "96000001"
      ]
     },
     "execution_count": 9,
     "metadata": {},
     "output_type": "execute_result"
    }
   ],
   "source": [
    "rdd.count()"
   ]
  },
  {
   "cell_type": "code",
   "execution_count": 10,
   "id": "f3cc9fbf",
   "metadata": {},
   "outputs": [],
   "source": [
    "wordCounts = words.map(lambda word: (word,1))\\\n",
    "    .reduceByKey(lambda a,b: a+b)\\\n",
    "    .map(lambda x:(x[1],x[0])).sortByKey(False).map(lambda x:(x[1],x[0]))"
   ]
  },
  {
   "cell_type": "code",
   "execution_count": 11,
   "id": "da15165f",
   "metadata": {},
   "outputs": [
    {
     "name": "stdout",
     "output_type": "stream",
     "text": [
      "('the', 131545248)\n",
      "('of', 57200160)\n",
      "('to', 54364608)\n",
      "('a', 48745728)\n",
      "('in', 45462432)\n",
      "('and', 43053024)\n",
      "('said', 20726112)\n",
      "('for', 20616864)\n",
      "('that', 19393632)\n",
      "('is', 16872480)\n"
     ]
    }
   ],
   "source": [
    "for i in wordCounts.take(10):\n",
    "    print(i)"
   ]
  },
  {
   "cell_type": "code",
   "execution_count": 12,
   "id": "5199f72e",
   "metadata": {},
   "outputs": [
    {
     "data": {
      "text/plain": [
       "[('the', 131545248),\n",
       " ('of', 57200160),\n",
       " ('to', 54364608),\n",
       " ('a', 48745728),\n",
       " ('in', 45462432),\n",
       " ('and', 43053024),\n",
       " ('said', 20726112),\n",
       " ('for', 20616864),\n",
       " ('that', 19393632),\n",
       " ('is', 16872480)]"
      ]
     },
     "execution_count": 12,
     "metadata": {},
     "output_type": "execute_result"
    }
   ],
   "source": [
    "wordCounts.takeOrdered(10, lambda pair: -pair[1])"
   ]
  },
  {
   "cell_type": "code",
   "execution_count": 17,
   "id": "458a3fd1",
   "metadata": {},
   "outputs": [],
   "source": [
    "wordCounts.saveAsTextFile(\"C:\\BD\\output12GB\")"
   ]
  },
  {
   "cell_type": "code",
   "execution_count": 18,
   "id": "9db0a33d",
   "metadata": {},
   "outputs": [
    {
     "name": "stdout",
     "output_type": "stream",
     "text": [
      "Programın çalışma süresi 4302.440367937088 saniyedir\n"
     ]
    }
   ],
   "source": [
    "end_time = time.time()\n",
    "\n",
    "print(\"Programın çalışma süresi {} saniyedir\".format(end_time - start_time))"
   ]
  },
  {
   "cell_type": "code",
   "execution_count": null,
   "id": "d45d2c8a",
   "metadata": {},
   "outputs": [],
   "source": []
  }
 ],
 "metadata": {
  "kernelspec": {
   "display_name": "Python 3 (ipykernel)",
   "language": "python",
   "name": "python3"
  },
  "language_info": {
   "codemirror_mode": {
    "name": "ipython",
    "version": 3
   },
   "file_extension": ".py",
   "mimetype": "text/x-python",
   "name": "python",
   "nbconvert_exporter": "python",
   "pygments_lexer": "ipython3",
   "version": "3.7.4"
  }
 },
 "nbformat": 4,
 "nbformat_minor": 5
}
