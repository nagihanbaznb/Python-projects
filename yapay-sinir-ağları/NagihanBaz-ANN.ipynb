{
 "cells": [
  {
   "cell_type": "code",
   "execution_count": 72,
   "id": "83cd62fc",
   "metadata": {},
   "outputs": [],
   "source": [
    "import numpy as np\n",
    "import matplotlib.pyplot as plt\n",
    "import pandas as pd\n",
    "from sklearn.preprocessing import LabelEncoder, OneHotEncoder\n",
    "from sklearn.model_selection import train_test_split\n",
    "from sklearn.preprocessing import StandardScaler\n",
    "import keras\n",
    "from keras.models import Sequential\n",
    "from keras.layers import Dense\n",
    "from keras.wrappers.scikit_learn import KerasClassifier\n",
    "from sklearn.model_selection import cross_val_score\n",
    "from sklearn.metrics import confusion_matrix"
   ]
  },
  {
   "cell_type": "code",
   "execution_count": 73,
   "id": "b400091f",
   "metadata": {},
   "outputs": [],
   "source": [
    "dataset = pd.read_csv(r\"C:\\Users\\USER\\Desktop\\Churn_Modelling (1).csv\")"
   ]
  },
  {
   "cell_type": "code",
   "execution_count": 74,
   "id": "7d3ab72d",
   "metadata": {},
   "outputs": [
    {
     "data": {
      "text/html": [
       "<div>\n",
       "<style scoped>\n",
       "    .dataframe tbody tr th:only-of-type {\n",
       "        vertical-align: middle;\n",
       "    }\n",
       "\n",
       "    .dataframe tbody tr th {\n",
       "        vertical-align: top;\n",
       "    }\n",
       "\n",
       "    .dataframe thead th {\n",
       "        text-align: right;\n",
       "    }\n",
       "</style>\n",
       "<table border=\"1\" class=\"dataframe\">\n",
       "  <thead>\n",
       "    <tr style=\"text-align: right;\">\n",
       "      <th></th>\n",
       "      <th>RowNumber</th>\n",
       "      <th>CustomerId</th>\n",
       "      <th>Surname</th>\n",
       "      <th>CreditScore</th>\n",
       "      <th>Geography</th>\n",
       "      <th>Gender</th>\n",
       "      <th>Age</th>\n",
       "      <th>Tenure</th>\n",
       "      <th>Balance</th>\n",
       "      <th>NumOfProducts</th>\n",
       "      <th>HasCrCard</th>\n",
       "      <th>IsActiveMember</th>\n",
       "      <th>EstimatedSalary</th>\n",
       "      <th>Exited</th>\n",
       "    </tr>\n",
       "  </thead>\n",
       "  <tbody>\n",
       "    <tr>\n",
       "      <th>0</th>\n",
       "      <td>1</td>\n",
       "      <td>15634602</td>\n",
       "      <td>Hargrave</td>\n",
       "      <td>619</td>\n",
       "      <td>France</td>\n",
       "      <td>Female</td>\n",
       "      <td>42</td>\n",
       "      <td>2</td>\n",
       "      <td>0.00</td>\n",
       "      <td>1</td>\n",
       "      <td>1</td>\n",
       "      <td>1</td>\n",
       "      <td>101348.88</td>\n",
       "      <td>1</td>\n",
       "    </tr>\n",
       "    <tr>\n",
       "      <th>1</th>\n",
       "      <td>2</td>\n",
       "      <td>15647311</td>\n",
       "      <td>Hill</td>\n",
       "      <td>608</td>\n",
       "      <td>Spain</td>\n",
       "      <td>Female</td>\n",
       "      <td>41</td>\n",
       "      <td>1</td>\n",
       "      <td>83807.86</td>\n",
       "      <td>1</td>\n",
       "      <td>0</td>\n",
       "      <td>1</td>\n",
       "      <td>112542.58</td>\n",
       "      <td>0</td>\n",
       "    </tr>\n",
       "    <tr>\n",
       "      <th>2</th>\n",
       "      <td>3</td>\n",
       "      <td>15619304</td>\n",
       "      <td>Onio</td>\n",
       "      <td>502</td>\n",
       "      <td>France</td>\n",
       "      <td>Female</td>\n",
       "      <td>42</td>\n",
       "      <td>8</td>\n",
       "      <td>159660.80</td>\n",
       "      <td>3</td>\n",
       "      <td>1</td>\n",
       "      <td>0</td>\n",
       "      <td>113931.57</td>\n",
       "      <td>1</td>\n",
       "    </tr>\n",
       "    <tr>\n",
       "      <th>3</th>\n",
       "      <td>4</td>\n",
       "      <td>15701354</td>\n",
       "      <td>Boni</td>\n",
       "      <td>699</td>\n",
       "      <td>France</td>\n",
       "      <td>Female</td>\n",
       "      <td>39</td>\n",
       "      <td>1</td>\n",
       "      <td>0.00</td>\n",
       "      <td>2</td>\n",
       "      <td>0</td>\n",
       "      <td>0</td>\n",
       "      <td>93826.63</td>\n",
       "      <td>0</td>\n",
       "    </tr>\n",
       "    <tr>\n",
       "      <th>4</th>\n",
       "      <td>5</td>\n",
       "      <td>15737888</td>\n",
       "      <td>Mitchell</td>\n",
       "      <td>850</td>\n",
       "      <td>Spain</td>\n",
       "      <td>Female</td>\n",
       "      <td>43</td>\n",
       "      <td>2</td>\n",
       "      <td>125510.82</td>\n",
       "      <td>1</td>\n",
       "      <td>1</td>\n",
       "      <td>1</td>\n",
       "      <td>79084.10</td>\n",
       "      <td>0</td>\n",
       "    </tr>\n",
       "  </tbody>\n",
       "</table>\n",
       "</div>"
      ],
      "text/plain": [
       "   RowNumber  CustomerId   Surname  CreditScore Geography  Gender  Age  \\\n",
       "0          1    15634602  Hargrave          619    France  Female   42   \n",
       "1          2    15647311      Hill          608     Spain  Female   41   \n",
       "2          3    15619304      Onio          502    France  Female   42   \n",
       "3          4    15701354      Boni          699    France  Female   39   \n",
       "4          5    15737888  Mitchell          850     Spain  Female   43   \n",
       "\n",
       "   Tenure    Balance  NumOfProducts  HasCrCard  IsActiveMember  \\\n",
       "0       2       0.00              1          1               1   \n",
       "1       1   83807.86              1          0               1   \n",
       "2       8  159660.80              3          1               0   \n",
       "3       1       0.00              2          0               0   \n",
       "4       2  125510.82              1          1               1   \n",
       "\n",
       "   EstimatedSalary  Exited  \n",
       "0        101348.88       1  \n",
       "1        112542.58       0  \n",
       "2        113931.57       1  \n",
       "3         93826.63       0  \n",
       "4         79084.10       0  "
      ]
     },
     "execution_count": 74,
     "metadata": {},
     "output_type": "execute_result"
    }
   ],
   "source": [
    "dataset.head()"
   ]
  },
  {
   "cell_type": "code",
   "execution_count": 75,
   "id": "8935fd42",
   "metadata": {},
   "outputs": [
    {
     "data": {
      "text/html": [
       "<div>\n",
       "<style scoped>\n",
       "    .dataframe tbody tr th:only-of-type {\n",
       "        vertical-align: middle;\n",
       "    }\n",
       "\n",
       "    .dataframe tbody tr th {\n",
       "        vertical-align: top;\n",
       "    }\n",
       "\n",
       "    .dataframe thead th {\n",
       "        text-align: right;\n",
       "    }\n",
       "</style>\n",
       "<table border=\"1\" class=\"dataframe\">\n",
       "  <thead>\n",
       "    <tr style=\"text-align: right;\">\n",
       "      <th></th>\n",
       "      <th>RowNumber</th>\n",
       "      <th>CustomerId</th>\n",
       "      <th>Surname</th>\n",
       "      <th>CreditScore</th>\n",
       "      <th>Geography</th>\n",
       "      <th>Gender</th>\n",
       "      <th>Age</th>\n",
       "      <th>Tenure</th>\n",
       "      <th>Balance</th>\n",
       "      <th>NumOfProducts</th>\n",
       "      <th>HasCrCard</th>\n",
       "      <th>IsActiveMember</th>\n",
       "      <th>EstimatedSalary</th>\n",
       "      <th>Exited</th>\n",
       "    </tr>\n",
       "  </thead>\n",
       "  <tbody>\n",
       "    <tr>\n",
       "      <th>9995</th>\n",
       "      <td>9996</td>\n",
       "      <td>15606229</td>\n",
       "      <td>Obijiaku</td>\n",
       "      <td>771</td>\n",
       "      <td>France</td>\n",
       "      <td>Male</td>\n",
       "      <td>39</td>\n",
       "      <td>5</td>\n",
       "      <td>0.00</td>\n",
       "      <td>2</td>\n",
       "      <td>1</td>\n",
       "      <td>0</td>\n",
       "      <td>96270.64</td>\n",
       "      <td>0</td>\n",
       "    </tr>\n",
       "    <tr>\n",
       "      <th>9996</th>\n",
       "      <td>9997</td>\n",
       "      <td>15569892</td>\n",
       "      <td>Johnstone</td>\n",
       "      <td>516</td>\n",
       "      <td>France</td>\n",
       "      <td>Male</td>\n",
       "      <td>35</td>\n",
       "      <td>10</td>\n",
       "      <td>57369.61</td>\n",
       "      <td>1</td>\n",
       "      <td>1</td>\n",
       "      <td>1</td>\n",
       "      <td>101699.77</td>\n",
       "      <td>0</td>\n",
       "    </tr>\n",
       "    <tr>\n",
       "      <th>9997</th>\n",
       "      <td>9998</td>\n",
       "      <td>15584532</td>\n",
       "      <td>Liu</td>\n",
       "      <td>709</td>\n",
       "      <td>France</td>\n",
       "      <td>Female</td>\n",
       "      <td>36</td>\n",
       "      <td>7</td>\n",
       "      <td>0.00</td>\n",
       "      <td>1</td>\n",
       "      <td>0</td>\n",
       "      <td>1</td>\n",
       "      <td>42085.58</td>\n",
       "      <td>1</td>\n",
       "    </tr>\n",
       "    <tr>\n",
       "      <th>9998</th>\n",
       "      <td>9999</td>\n",
       "      <td>15682355</td>\n",
       "      <td>Sabbatini</td>\n",
       "      <td>772</td>\n",
       "      <td>Germany</td>\n",
       "      <td>Male</td>\n",
       "      <td>42</td>\n",
       "      <td>3</td>\n",
       "      <td>75075.31</td>\n",
       "      <td>2</td>\n",
       "      <td>1</td>\n",
       "      <td>0</td>\n",
       "      <td>92888.52</td>\n",
       "      <td>1</td>\n",
       "    </tr>\n",
       "    <tr>\n",
       "      <th>9999</th>\n",
       "      <td>10000</td>\n",
       "      <td>15628319</td>\n",
       "      <td>Walker</td>\n",
       "      <td>792</td>\n",
       "      <td>France</td>\n",
       "      <td>Female</td>\n",
       "      <td>28</td>\n",
       "      <td>4</td>\n",
       "      <td>130142.79</td>\n",
       "      <td>1</td>\n",
       "      <td>1</td>\n",
       "      <td>0</td>\n",
       "      <td>38190.78</td>\n",
       "      <td>0</td>\n",
       "    </tr>\n",
       "  </tbody>\n",
       "</table>\n",
       "</div>"
      ],
      "text/plain": [
       "      RowNumber  CustomerId    Surname  CreditScore Geography  Gender  Age  \\\n",
       "9995       9996    15606229   Obijiaku          771    France    Male   39   \n",
       "9996       9997    15569892  Johnstone          516    France    Male   35   \n",
       "9997       9998    15584532        Liu          709    France  Female   36   \n",
       "9998       9999    15682355  Sabbatini          772   Germany    Male   42   \n",
       "9999      10000    15628319     Walker          792    France  Female   28   \n",
       "\n",
       "      Tenure    Balance  NumOfProducts  HasCrCard  IsActiveMember  \\\n",
       "9995       5       0.00              2          1               0   \n",
       "9996      10   57369.61              1          1               1   \n",
       "9997       7       0.00              1          0               1   \n",
       "9998       3   75075.31              2          1               0   \n",
       "9999       4  130142.79              1          1               0   \n",
       "\n",
       "      EstimatedSalary  Exited  \n",
       "9995         96270.64       0  \n",
       "9996        101699.77       0  \n",
       "9997         42085.58       1  \n",
       "9998         92888.52       1  \n",
       "9999         38190.78       0  "
      ]
     },
     "execution_count": 75,
     "metadata": {},
     "output_type": "execute_result"
    }
   ],
   "source": [
    "dataset.tail()"
   ]
  },
  {
   "cell_type": "code",
   "execution_count": 76,
   "id": "5ffef6b8",
   "metadata": {},
   "outputs": [
    {
     "data": {
      "text/plain": [
       "RowNumber          0\n",
       "CustomerId         0\n",
       "Surname            0\n",
       "CreditScore        0\n",
       "Geography          0\n",
       "Gender             0\n",
       "Age                0\n",
       "Tenure             0\n",
       "Balance            0\n",
       "NumOfProducts      0\n",
       "HasCrCard          0\n",
       "IsActiveMember     0\n",
       "EstimatedSalary    0\n",
       "Exited             0\n",
       "dtype: int64"
      ]
     },
     "execution_count": 76,
     "metadata": {},
     "output_type": "execute_result"
    }
   ],
   "source": [
    "# Checking if our dataset contains any NULL values\n",
    "\n",
    "dataset.isnull().sum()"
   ]
  },
  {
   "cell_type": "code",
   "execution_count": 77,
   "id": "1757412f",
   "metadata": {},
   "outputs": [
    {
     "data": {
      "text/plain": [
       "Male      5457\n",
       "Female    4543\n",
       "Name: Gender, dtype: int64"
      ]
     },
     "execution_count": 77,
     "metadata": {},
     "output_type": "execute_result"
    }
   ],
   "source": [
    "dataset['Gender'].value_counts()"
   ]
  },
  {
   "cell_type": "code",
   "execution_count": 78,
   "id": "c6a2994f",
   "metadata": {},
   "outputs": [
    {
     "data": {
      "image/png": "[encoded data removed]",
      "text/plain": [
       "<Figure size 432x288 with 1 Axes>"
      ]
     },
     "metadata": {
      "needs_background": "light"
     },
     "output_type": "display_data"
    }
   ],
   "source": [
    "plt.hist(x = dataset.Gender, bins = 3, color = 'pink')\n",
    "plt.title('comparison of male and female')\n",
    "plt.xlabel('Gender')\n",
    "plt.ylabel('population')\n",
    "plt.show()"
   ]
  },
  {
   "cell_type": "code",
   "execution_count": 79,
   "id": "830efcd6",
   "metadata": {},
   "outputs": [
    {
     "data": {
      "text/plain": [
       "37    478\n",
       "38    477\n",
       "35    474\n",
       "36    456\n",
       "34    447\n",
       "     ... \n",
       "92      2\n",
       "82      1\n",
       "88      1\n",
       "85      1\n",
       "83      1\n",
       "Name: Age, Length: 70, dtype: int64"
      ]
     },
     "execution_count": 79,
     "metadata": {},
     "output_type": "execute_result"
    }
   ],
   "source": [
    "dataset['Age'].value_counts()"
   ]
  },
  {
   "cell_type": "code",
   "execution_count": 80,
   "id": "5ce09edd",
   "metadata": {},
   "outputs": [
    {
     "data": {
      "image/png": "[encoded data removed]",
      "text/plain": [
       "<Figure size 432x288 with 1 Axes>"
      ]
     },
     "metadata": {
      "needs_background": "light"
     },
     "output_type": "display_data"
    }
   ],
   "source": [
    "plt.hist(x = dataset.Age, bins = 10, color = 'orange')\n",
    "plt.title('comparison of Age')\n",
    "plt.xlabel('Age')\n",
    "plt.ylabel('population')\n",
    "plt.show()"
   ]
  },
  {
   "cell_type": "code",
   "execution_count": 81,
   "id": "1d3f6cd9",
   "metadata": {},
   "outputs": [
    {
     "data": {
      "text/plain": [
       "France     5014\n",
       "Germany    2509\n",
       "Spain      2477\n",
       "Name: Geography, dtype: int64"
      ]
     },
     "execution_count": 81,
     "metadata": {},
     "output_type": "execute_result"
    }
   ],
   "source": [
    "dataset['Geography'].value_counts()"
   ]
  },
  {
   "cell_type": "code",
   "execution_count": 82,
   "id": "d24c9559",
   "metadata": {},
   "outputs": [
    {
     "data": {
      "image/png": "[encoded data removed]",
      "text/plain": [
       "<Figure size 432x288 with 1 Axes>"
      ]
     },
     "metadata": {
      "needs_background": "light"
     },
     "output_type": "display_data"
    }
   ],
   "source": [
    "plt.hist(x = dataset.Geography, bins = 5, color = 'green')\n",
    "plt.title('comparison of Geography')\n",
    "plt.xlabel('Geography')\n",
    "plt.ylabel('population')\n",
    "plt.show()"
   ]
  },
  {
   "cell_type": "code",
   "execution_count": 83,
   "id": "1da19c21",
   "metadata": {},
   "outputs": [
    {
     "data": {
      "text/plain": [
       "1    7055\n",
       "0    2945\n",
       "Name: HasCrCard, dtype: int64"
      ]
     },
     "execution_count": 83,
     "metadata": {},
     "output_type": "execute_result"
    }
   ],
   "source": [
    "dataset['HasCrCard'].value_counts()"
   ]
  },
  {
   "cell_type": "code",
   "execution_count": 84,
   "id": "0fde13be",
   "metadata": {},
   "outputs": [
    {
     "data": {
      "image/png": "[encoded data removed]",
      "text/plain": [
       "<Figure size 432x288 with 1 Axes>"
      ]
     },
     "metadata": {
      "needs_background": "light"
     },
     "output_type": "display_data"
    }
   ],
   "source": [
    "plt.hist(x = dataset.HasCrCard, bins = 3, color = 'red')\n",
    "plt.title('how many people have or not have the credit card')\n",
    "plt.xlabel('customers holding credit card')\n",
    "plt.ylabel('population')\n",
    "plt.show()"
   ]
  },
  {
   "cell_type": "code",
   "execution_count": 85,
   "id": "3adb7190",
   "metadata": {},
   "outputs": [
    {
     "data": {
      "text/plain": [
       "1    5151\n",
       "0    4849\n",
       "Name: IsActiveMember, dtype: int64"
      ]
     },
     "execution_count": 85,
     "metadata": {},
     "output_type": "execute_result"
    }
   ],
   "source": [
    "dataset['IsActiveMember'].value_counts()"
   ]
  },
  {
   "cell_type": "code",
   "execution_count": 86,
   "id": "bc761454",
   "metadata": {},
   "outputs": [
    {
     "data": {
      "image/png": "[encoded data removed]",
      "text/plain": [
       "<Figure size 432x288 with 1 Axes>"
      ]
     },
     "metadata": {
      "needs_background": "light"
     },
     "output_type": "display_data"
    }
   ],
   "source": [
    "plt.hist(x = dataset.IsActiveMember, bins = 3, color = 'brown')\n",
    "plt.title('Active Members')\n",
    "plt.xlabel('Customers')\n",
    "plt.ylabel('population')\n",
    "plt.show()"
   ]
  },
  {
   "cell_type": "code",
   "execution_count": 87,
   "id": "630b3c8f",
   "metadata": {},
   "outputs": [
    {
     "data": {
      "text/plain": [
       "<AxesSubplot:xlabel='Gender'>"
      ]
     },
     "execution_count": 87,
     "metadata": {},
     "output_type": "execute_result"
    },
    {
     "data": {
      "image/png": "[encoded data removed]",
      "text/plain": [
       "<Figure size 432x432 with 1 Axes>"
      ]
     },
     "metadata": {
      "needs_background": "light"
     },
     "output_type": "display_data"
    }
   ],
   "source": [
    "# comparison between Geography and Gender\n",
    "\n",
    "Gender = pd.crosstab(dataset['Gender'],dataset['Geography'])\n",
    "Gender.div(Gender.sum(1).astype(float), axis=0).plot(kind=\"bar\", stacked=True, figsize=(6, 6))"
   ]
  },
  {
   "cell_type": "code",
   "execution_count": 88,
   "id": "c531efbd",
   "metadata": {},
   "outputs": [
    {
     "data": {
      "text/plain": [
       "<AxesSubplot:xlabel='HasCrCard'>"
      ]
     },
     "execution_count": 88,
     "metadata": {},
     "output_type": "execute_result"
    },
    {
     "data": {
      "image/png": "[encoded data removed]",
      "text/plain": [
       "<Figure size 432x432 with 1 Axes>"
      ]
     },
     "metadata": {
      "needs_background": "light"
     },
     "output_type": "display_data"
    }
   ],
   "source": [
    "# comparison between geography and card holders\n",
    "\n",
    "HasCrCard = pd.crosstab(dataset['HasCrCard'], dataset['Geography'])\n",
    "HasCrCard.div(HasCrCard.sum(1).astype(float), axis = 0).plot(kind = 'bar',\n",
    "                                            stacked = True,figsize = (6, 6))"
   ]
  },
  {
   "cell_type": "code",
   "execution_count": 89,
   "id": "eeaee700",
   "metadata": {},
   "outputs": [
    {
     "data": {
      "text/plain": [
       "<AxesSubplot:xlabel='IsActiveMember'>"
      ]
     },
     "execution_count": 89,
     "metadata": {},
     "output_type": "execute_result"
    },
    {
     "data": {
      "image/png": "[encoded data removed]",
      "text/plain": [
       "<Figure size 432x432 with 1 Axes>"
      ]
     },
     "metadata": {
      "needs_background": "light"
     },
     "output_type": "display_data"
    }
   ],
   "source": [
    "# comparison of active member in differnt geographies\n",
    "\n",
    "IsActiveMember = pd.crosstab(dataset['IsActiveMember'], dataset['Geography'])\n",
    "IsActiveMember.div(IsActiveMember.sum(1).astype(float), axis = 0).plot(kind = 'bar', \n",
    "                                             stacked = True, figsize= (6, 6))"
   ]
  },
  {
   "cell_type": "code",
   "execution_count": 90,
   "id": "d2125b7c",
   "metadata": {},
   "outputs": [
    {
     "data": {
      "text/plain": [
       "<AxesSubplot:xlabel='Age'>"
      ]
     },
     "execution_count": 90,
     "metadata": {},
     "output_type": "execute_result"
    },
    {
     "data": {
      "image/png": "[encoded data removed]",
      "text/plain": [
       "<Figure size 1080x1080 with 1 Axes>"
      ]
     },
     "metadata": {
      "needs_background": "light"
     },
     "output_type": "display_data"
    }
   ],
   "source": [
    "# comparing ages in different geographies\n",
    "\n",
    "Age = pd.crosstab(dataset['Age'], dataset['Geography'])\n",
    "Age.div(Age.sum(1).astype(float), axis = 0).plot(kind = 'bar', \n",
    "                                           stacked = True, figsize = (15,15))"
   ]
  },
  {
   "cell_type": "code",
   "execution_count": 91,
   "id": "1e3656a1",
   "metadata": {},
   "outputs": [],
   "source": [
    "X = dataset.iloc[:,3:13].values\n",
    "Y = dataset.iloc[:,13].values   "
   ]
  },
  {
   "cell_type": "code",
   "execution_count": 92,
   "id": "69f55c62",
   "metadata": {},
   "outputs": [],
   "source": [
    "labelencoder_X_country = LabelEncoder()\n",
    "X[:, 1] = labelencoder_X_country.fit_transform(X[:, 1])\n",
    "\n",
    "labelencoder_X_gender = LabelEncoder()\n",
    "X[:, 2] = labelencoder_X_gender.fit_transform(X[:, 2])  "
   ]
  },
  {
   "cell_type": "code",
   "execution_count": 93,
   "id": "c97982b8",
   "metadata": {},
   "outputs": [],
   "source": [
    "X_train, X_test, y_train, y_test = train_test_split(X, Y, test_size = 0.2, random_state = 0)\n",
    "         \n",
    "sc = StandardScaler()\n",
    "X_train = sc.fit_transform(X_train)\n",
    "X_test = sc.transform(X_test)"
   ]
  },
  {
   "cell_type": "code",
   "execution_count": 94,
   "id": "16bd99db",
   "metadata": {},
   "outputs": [],
   "source": [
    "def build_model():\n",
    "    model = Sequential()\n",
    "    model.add(Dense(units=64, activation='relu', input_dim=10)) \n",
    "    model.add(Dense(units=64, activation='relu'))\n",
    "    model.add(Dense(units=1, activation='sigmoid'))\n",
    "    model.compile(optimizer='adam', loss='binary_crossentropy', metrics=['accuracy'])\n",
    "    return model"
   ]
  },
  {
   "cell_type": "code",
   "execution_count": 95,
   "id": "d36f44f7",
   "metadata": {},
   "outputs": [
    {
     "name": "stderr",
     "output_type": "stream",
     "text": [
      "C:\\Users\\USER\\AppData\\Local\\Temp/ipykernel_29524/843491324.py:1: DeprecationWarning: KerasClassifier is deprecated, use Sci-Keras (https://github.com/adriangb/scikeras) instead. See https://www.adriangb.com/scikeras/stable/migration.html for help migrating.\n",
      "  cv_classifier = KerasClassifier(build_fn=build_model,batch_size = 25,nb_epoch = 1000)\n"
     ]
    },
    {
     "name": "stdout",
     "output_type": "stream",
     "text": [
      "288/288 [==============================] - 2s 3ms/step - loss: 0.4489 - accuracy: 0.7982\n",
      "32/32 [==============================] - 0s 2ms/step - loss: 0.4010 - accuracy: 0.8338\n",
      "288/288 [==============================] - 2s 3ms/step - loss: 0.4495 - accuracy: 0.8076\n",
      "32/32 [==============================] - 0s 2ms/step - loss: 0.3992 - accuracy: 0.8462\n",
      "288/288 [==============================] - 2s 3ms/step - loss: 0.4408 - accuracy: 0.8106\n",
      "32/32 [==============================] - 0s 2ms/step - loss: 0.3711 - accuracy: 0.8462\n",
      "288/288 [==============================] - 2s 3ms/step - loss: 0.4458 - accuracy: 0.8037\n",
      "32/32 [==============================] - 0s 2ms/step - loss: 0.4342 - accuracy: 0.8138\n",
      "288/288 [==============================] - 2s 5ms/step - loss: 0.4432 - accuracy: 0.8046\n",
      "32/32 [==============================] - 0s 2ms/step - loss: 0.3602 - accuracy: 0.8612\n",
      "288/288 [==============================] - 2s 3ms/step - loss: 0.4410 - accuracy: 0.8124\n",
      "32/32 [==============================] - 0s 2ms/step - loss: 0.3984 - accuracy: 0.8438\n",
      "288/288 [==============================] - 2s 3ms/step - loss: 0.4420 - accuracy: 0.8135\n",
      "32/32 [==============================] - 0s 2ms/step - loss: 0.4030 - accuracy: 0.8338\n",
      "288/288 [==============================] - 2s 3ms/step - loss: 0.4440 - accuracy: 0.8039\n",
      "32/32 [==============================] - 0s 3ms/step - loss: 0.4120 - accuracy: 0.8200\n",
      "288/288 [==============================] - 2s 4ms/step - loss: 0.4336 - accuracy: 0.8146\n",
      "32/32 [==============================] - 0s 2ms/step - loss: 0.4322 - accuracy: 0.8150\n",
      "288/288 [==============================] - 2s 3ms/step - loss: 0.4378 - accuracy: 0.8132\n",
      "32/32 [==============================] - 0s 2ms/step - loss: 0.3922 - accuracy: 0.8438\n",
      "0.8357500016689301\n"
     ]
    }
   ],
   "source": [
    "cv_classifier = KerasClassifier(build_fn=build_model,batch_size = 25,nb_epoch = 1000)\n",
    "accuracies = cross_val_score(estimator = cv_classifier, X = X_train, y = y_train, cv = 10)\n",
    "\n",
    "accuracySum = 0\n",
    "for accuracy in accuracies:\n",
    "    accuracySum += accuracy\n",
    " \n",
    "print(accuracySum / accuracies.size)"
   ]
  },
  {
   "cell_type": "code",
   "execution_count": 96,
   "id": "6b606349",
   "metadata": {},
   "outputs": [
    {
     "name": "stdout",
     "output_type": "stream",
     "text": [
      "Epoch 1/100\n",
      "800/800 [==============================] - 4s 3ms/step - loss: 0.4195 - accuracy: 0.8232\n",
      "Epoch 2/100\n",
      "800/800 [==============================] - 3s 4ms/step - loss: 0.3593 - accuracy: 0.8510\n",
      "Epoch 3/100\n",
      "800/800 [==============================] - 3s 4ms/step - loss: 0.3503 - accuracy: 0.8560\n",
      "Epoch 4/100\n",
      "800/800 [==============================] - 3s 3ms/step - loss: 0.3424 - accuracy: 0.8569\n",
      "Epoch 5/100\n",
      "800/800 [==============================] - 4s 5ms/step - loss: 0.3378 - accuracy: 0.8622\n",
      "Epoch 6/100\n",
      "800/800 [==============================] - 3s 4ms/step - loss: 0.3328 - accuracy: 0.8636\n",
      "Epoch 7/100\n",
      "800/800 [==============================] - 3s 4ms/step - loss: 0.3315 - accuracy: 0.8637\n",
      "Epoch 8/100\n",
      "800/800 [==============================] - 3s 4ms/step - loss: 0.3282 - accuracy: 0.8639\n",
      "Epoch 9/100\n",
      "800/800 [==============================] - 4s 5ms/step - loss: 0.3247 - accuracy: 0.8669\n",
      "Epoch 10/100\n",
      "800/800 [==============================] - 3s 4ms/step - loss: 0.3221 - accuracy: 0.8685\n",
      "Epoch 11/100\n",
      "800/800 [==============================] - 3s 4ms/step - loss: 0.3187 - accuracy: 0.8668\n",
      "Epoch 12/100\n",
      "800/800 [==============================] - 3s 4ms/step - loss: 0.3166 - accuracy: 0.8698\n",
      "Epoch 13/100\n",
      "800/800 [==============================] - 3s 4ms/step - loss: 0.3137 - accuracy: 0.8690\n",
      "Epoch 14/100\n",
      "800/800 [==============================] - 3s 4ms/step - loss: 0.3115 - accuracy: 0.8702\n",
      "Epoch 15/100\n",
      "800/800 [==============================] - 3s 4ms/step - loss: 0.3099 - accuracy: 0.8726\n",
      "Epoch 16/100\n",
      "800/800 [==============================] - 3s 4ms/step - loss: 0.3065 - accuracy: 0.8735\n",
      "Epoch 17/100\n",
      "800/800 [==============================] - 3s 4ms/step - loss: 0.3029 - accuracy: 0.8751\n",
      "Epoch 18/100\n",
      "800/800 [==============================] - 3s 4ms/step - loss: 0.3023 - accuracy: 0.8736\n",
      "Epoch 19/100\n",
      "800/800 [==============================] - 4s 5ms/step - loss: 0.2983 - accuracy: 0.8761\n",
      "Epoch 20/100\n",
      "800/800 [==============================] - 4s 5ms/step - loss: 0.2976 - accuracy: 0.8785\n",
      "Epoch 21/100\n",
      "800/800 [==============================] - 4s 5ms/step - loss: 0.2951 - accuracy: 0.8770\n",
      "Epoch 22/100\n",
      "800/800 [==============================] - 3s 4ms/step - loss: 0.2907 - accuracy: 0.8779\n",
      "Epoch 23/100\n",
      "800/800 [==============================] - 4s 5ms/step - loss: 0.2905 - accuracy: 0.8790\n",
      "Epoch 24/100\n",
      "800/800 [==============================] - 3s 4ms/step - loss: 0.2882 - accuracy: 0.8781\n",
      "Epoch 25/100\n",
      "800/800 [==============================] - 4s 5ms/step - loss: 0.2862 - accuracy: 0.8805\n",
      "Epoch 26/100\n",
      "800/800 [==============================] - 4s 5ms/step - loss: 0.2841 - accuracy: 0.8810\n",
      "Epoch 27/100\n",
      "800/800 [==============================] - 3s 3ms/step - loss: 0.2820 - accuracy: 0.8809\n",
      "Epoch 28/100\n",
      "800/800 [==============================] - 3s 4ms/step - loss: 0.2791 - accuracy: 0.8809\n",
      "Epoch 29/100\n",
      "800/800 [==============================] - 3s 4ms/step - loss: 0.2774 - accuracy: 0.8829\n",
      "Epoch 30/100\n",
      "800/800 [==============================] - 3s 3ms/step - loss: 0.2760 - accuracy: 0.8808\n",
      "Epoch 31/100\n",
      "800/800 [==============================] - 3s 3ms/step - loss: 0.2728 - accuracy: 0.8869\n",
      "Epoch 32/100\n",
      "800/800 [==============================] - 3s 3ms/step - loss: 0.2722 - accuracy: 0.8826\n",
      "Epoch 33/100\n",
      "800/800 [==============================] - 3s 4ms/step - loss: 0.2688 - accuracy: 0.8886\n",
      "Epoch 34/100\n",
      "800/800 [==============================] - 3s 3ms/step - loss: 0.2674 - accuracy: 0.8870\n",
      "Epoch 35/100\n",
      "800/800 [==============================] - 2s 3ms/step - loss: 0.2644 - accuracy: 0.8859\n",
      "Epoch 36/100\n",
      "800/800 [==============================] - 2s 3ms/step - loss: 0.2629 - accuracy: 0.8889\n",
      "Epoch 37/100\n",
      "800/800 [==============================] - 3s 4ms/step - loss: 0.2608 - accuracy: 0.8899\n",
      "Epoch 38/100\n",
      "800/800 [==============================] - 3s 4ms/step - loss: 0.2593 - accuracy: 0.8923\n",
      "Epoch 39/100\n",
      "800/800 [==============================] - 3s 4ms/step - loss: 0.2555 - accuracy: 0.8910\n",
      "Epoch 40/100\n",
      "800/800 [==============================] - 2s 3ms/step - loss: 0.2551 - accuracy: 0.8919\n",
      "Epoch 41/100\n",
      "800/800 [==============================] - 2s 3ms/step - loss: 0.2520 - accuracy: 0.8960\n",
      "Epoch 42/100\n",
      "800/800 [==============================] - 4s 5ms/step - loss: 0.2504 - accuracy: 0.8945\n",
      "Epoch 43/100\n",
      "800/800 [==============================] - 4s 5ms/step - loss: 0.2479 - accuracy: 0.8963\n",
      "Epoch 44/100\n",
      "800/800 [==============================] - 3s 4ms/step - loss: 0.2448 - accuracy: 0.8960\n",
      "Epoch 45/100\n",
      "800/800 [==============================] - 3s 4ms/step - loss: 0.2447 - accuracy: 0.8945\n",
      "Epoch 46/100\n",
      "800/800 [==============================] - 3s 3ms/step - loss: 0.2415 - accuracy: 0.8966\n",
      "Epoch 47/100\n",
      "800/800 [==============================] - 3s 3ms/step - loss: 0.2384 - accuracy: 0.8979\n",
      "Epoch 48/100\n",
      "800/800 [==============================] - 3s 3ms/step - loss: 0.2389 - accuracy: 0.8978\n",
      "Epoch 49/100\n",
      "800/800 [==============================] - 3s 3ms/step - loss: 0.2374 - accuracy: 0.8984\n",
      "Epoch 50/100\n",
      "800/800 [==============================] - 4s 4ms/step - loss: 0.2320 - accuracy: 0.9004\n",
      "Epoch 51/100\n",
      "800/800 [==============================] - 3s 4ms/step - loss: 0.2337 - accuracy: 0.9030\n",
      "Epoch 52/100\n",
      "800/800 [==============================] - 3s 3ms/step - loss: 0.2301 - accuracy: 0.9044\n",
      "Epoch 53/100\n",
      "800/800 [==============================] - 3s 3ms/step - loss: 0.2286 - accuracy: 0.9022\n",
      "Epoch 54/100\n",
      "800/800 [==============================] - 3s 3ms/step - loss: 0.2264 - accuracy: 0.9029\n",
      "Epoch 55/100\n",
      "800/800 [==============================] - 3s 3ms/step - loss: 0.2239 - accuracy: 0.9057\n",
      "Epoch 56/100\n",
      "800/800 [==============================] - 3s 4ms/step - loss: 0.2222 - accuracy: 0.9053\n",
      "Epoch 57/100\n",
      "800/800 [==============================] - 3s 3ms/step - loss: 0.2212 - accuracy: 0.9060\n",
      "Epoch 58/100\n",
      "800/800 [==============================] - 3s 3ms/step - loss: 0.2199 - accuracy: 0.9079\n",
      "Epoch 59/100\n",
      "800/800 [==============================] - 3s 3ms/step - loss: 0.2168 - accuracy: 0.9091\n",
      "Epoch 60/100\n",
      "800/800 [==============================] - 3s 4ms/step - loss: 0.2168 - accuracy: 0.9064\n",
      "Epoch 61/100\n",
      "800/800 [==============================] - 3s 4ms/step - loss: 0.2161 - accuracy: 0.9095\n",
      "Epoch 62/100\n",
      "800/800 [==============================] - 4s 5ms/step - loss: 0.2115 - accuracy: 0.9104\n",
      "Epoch 63/100\n",
      "800/800 [==============================] - 4s 5ms/step - loss: 0.2093 - accuracy: 0.9122\n",
      "Epoch 64/100\n",
      "800/800 [==============================] - 3s 4ms/step - loss: 0.2107 - accuracy: 0.9087\n",
      "Epoch 65/100\n",
      "800/800 [==============================] - 3s 3ms/step - loss: 0.2079 - accuracy: 0.9104\n",
      "Epoch 66/100\n",
      "800/800 [==============================] - 3s 4ms/step - loss: 0.2068 - accuracy: 0.9122\n",
      "Epoch 67/100\n",
      "800/800 [==============================] - 3s 4ms/step - loss: 0.2034 - accuracy: 0.9130\n",
      "Epoch 68/100\n",
      "800/800 [==============================] - 3s 3ms/step - loss: 0.2029 - accuracy: 0.9140\n",
      "Epoch 69/100\n",
      "800/800 [==============================] - 3s 3ms/step - loss: 0.2026 - accuracy: 0.9134\n",
      "Epoch 70/100\n",
      "800/800 [==============================] - 3s 3ms/step - loss: 0.2010 - accuracy: 0.9155\n",
      "Epoch 71/100\n",
      "800/800 [==============================] - 3s 3ms/step - loss: 0.1975 - accuracy: 0.9158\n",
      "Epoch 72/100\n",
      "800/800 [==============================] - 3s 4ms/step - loss: 0.1976 - accuracy: 0.9151\n",
      "Epoch 73/100\n",
      "800/800 [==============================] - 4s 5ms/step - loss: 0.1966 - accuracy: 0.9133\n",
      "Epoch 74/100\n",
      "800/800 [==============================] - 4s 5ms/step - loss: 0.1941 - accuracy: 0.9201\n",
      "Epoch 75/100\n",
      "800/800 [==============================] - 4s 5ms/step - loss: 0.1915 - accuracy: 0.9202\n",
      "Epoch 76/100\n",
      "800/800 [==============================] - 4s 5ms/step - loss: 0.1907 - accuracy: 0.9178\n",
      "Epoch 77/100\n",
      "800/800 [==============================] - 4s 5ms/step - loss: 0.1909 - accuracy: 0.9196\n",
      "Epoch 78/100\n",
      "800/800 [==============================] - 3s 4ms/step - loss: 0.1892 - accuracy: 0.9190\n",
      "Epoch 79/100\n",
      "800/800 [==============================] - 2s 3ms/step - loss: 0.1890 - accuracy: 0.9209\n",
      "Epoch 80/100\n",
      "800/800 [==============================] - 2s 3ms/step - loss: 0.1844 - accuracy: 0.9219\n",
      "Epoch 81/100\n",
      "800/800 [==============================] - 3s 3ms/step - loss: 0.1853 - accuracy: 0.9212\n",
      "Epoch 82/100\n",
      "800/800 [==============================] - 3s 3ms/step - loss: 0.1839 - accuracy: 0.9214\n",
      "Epoch 83/100\n",
      "800/800 [==============================] - 3s 4ms/step - loss: 0.1807 - accuracy: 0.9243\n",
      "Epoch 84/100\n",
      "800/800 [==============================] - 3s 4ms/step - loss: 0.1820 - accuracy: 0.9227\n",
      "Epoch 85/100\n",
      "800/800 [==============================] - 3s 4ms/step - loss: 0.1784 - accuracy: 0.9259\n",
      "Epoch 86/100\n",
      "800/800 [==============================] - 3s 4ms/step - loss: 0.1777 - accuracy: 0.9224\n",
      "Epoch 87/100\n",
      "800/800 [==============================] - 3s 4ms/step - loss: 0.1757 - accuracy: 0.9264\n",
      "Epoch 88/100\n",
      "800/800 [==============================] - 2s 3ms/step - loss: 0.1747 - accuracy: 0.9279\n",
      "Epoch 89/100\n",
      "800/800 [==============================] - 2s 3ms/step - loss: 0.1739 - accuracy: 0.9260\n",
      "Epoch 90/100\n",
      "800/800 [==============================] - 3s 3ms/step - loss: 0.1734 - accuracy: 0.9249\n",
      "Epoch 91/100\n",
      "800/800 [==============================] - 3s 3ms/step - loss: 0.1731 - accuracy: 0.9259\n",
      "Epoch 92/100\n",
      "800/800 [==============================] - 3s 4ms/step - loss: 0.1710 - accuracy: 0.9275\n",
      "Epoch 93/100\n",
      "800/800 [==============================] - 4s 5ms/step - loss: 0.1708 - accuracy: 0.9286\n",
      "Epoch 94/100\n",
      "800/800 [==============================] - 3s 4ms/step - loss: 0.1656 - accuracy: 0.9309\n",
      "Epoch 95/100\n",
      "800/800 [==============================] - 3s 4ms/step - loss: 0.1659 - accuracy: 0.9329\n",
      "Epoch 96/100\n",
      "800/800 [==============================] - 4s 4ms/step - loss: 0.1653 - accuracy: 0.9286\n",
      "Epoch 97/100\n",
      "800/800 [==============================] - 4s 5ms/step - loss: 0.1644 - accuracy: 0.9317\n",
      "Epoch 98/100\n",
      "800/800 [==============================] - 4s 5ms/step - loss: 0.1606 - accuracy: 0.9323\n",
      "Epoch 99/100\n",
      "800/800 [==============================] - 4s 5ms/step - loss: 0.1643 - accuracy: 0.9304\n",
      "Epoch 100/100\n",
      "800/800 [==============================] - 4s 4ms/step - loss: 0.1592 - accuracy: 0.9344\n",
      "63/63 [==============================] - 0s 3ms/step - loss: 0.6025 - accuracy: 0.8365\n",
      "63/63 [==============================] - 0s 2ms/step\n",
      "1/1 [==============================] - 0s 37ms/step\n",
      "Ornek veri tahmini:\n",
      "[[False]]\n"
     ]
    }
   ],
   "source": [
    "classifier = build_model()\n",
    "history= classifier.fit(X_train, y_train, batch_size=10, epochs=100)\n",
    "\n",
    "acc_history = history.history[\"accuracy\"]\n",
    "\n",
    "loss,accuracy = classifier.evaluate(X_test,y_test)\n",
    "\n",
    "y_pred = classifier.predict(X_test)\n",
    "y_pred = (y_pred > 0.5)\n",
    "\n",
    "cm = confusion_matrix(y_test,y_pred)\n",
    "\n",
    "myTest_data = np.array([[2, 500, 0, 42, 8, 150000, 2, 1, 1, 100000]])\n",
    "myTest_data = sc.transform(myTest_data)\n",
    "\n",
    "my_tahmin = classifier.predict(myTest_data)\n",
    "my_tahmin = (my_tahmin > 0.5)\n",
    "\n",
    "print(\"Ornek veri tahmini:\")\n",
    "print(my_tahmin)"
   ]
  },
  {
   "cell_type": "code",
   "execution_count": 97,
   "id": "2ec050a7",
   "metadata": {},
   "outputs": [
    {
     "name": "stdout",
     "output_type": "stream",
     "text": [
      "Accuracy: 83.64999890327454%\n"
     ]
    }
   ],
   "source": [
    "print(f\"Accuracy: {accuracy * 100}%\")"
   ]
  },
  {
   "cell_type": "code",
   "execution_count": 99,
   "id": "10f867cd",
   "metadata": {},
   "outputs": [
    {
     "data": {
      "image/png": "[encoded data removed]",
      "text/plain": [
       "<Figure size 864x432 with 2 Axes>"
      ]
     },
     "metadata": {
      "needs_background": "light"
     },
     "output_type": "display_data"
    }
   ],
   "source": [
    "plt.figure(figsize=(12, 6))\n",
    "plt.subplot(1, 2, 1)\n",
    "plt.plot(history.history['loss'])\n",
    "plt.title('Training Loss')\n",
    "plt.xlabel('Epoch')\n",
    "plt.ylabel('Loss')\n",
    "plt.subplot(1, 2, 2)\n",
    "plt.plot(history.history['accuracy'])\n",
    "plt.title('Training Accuracy')\n",
    "plt.xlabel('Epoch')\n",
    "plt.ylabel('Accuracy')\n",
    "plt.tight_layout()\n",
    "plt.show()\n"
   ]
  },
  {
   "cell_type": "code",
   "execution_count": null,
   "id": "17d151b5",
   "metadata": {},
   "outputs": [],
   "source": []
  }
 ],
 "metadata": {
  "kernelspec": {
   "display_name": "Python 3 (ipykernel)",
   "language": "python",
   "name": "python3"
  },
  "language_info": {
   "codemirror_mode": {
    "name": "ipython",
    "version": 3
   },
   "file_extension": ".py",
   "mimetype": "text/x-python",
   "name": "python",
   "nbconvert_exporter": "python",
   "pygments_lexer": "ipython3",
   "version": "3.9.7"
  }
 },
 "nbformat": 4,
 "nbformat_minor": 5
}
